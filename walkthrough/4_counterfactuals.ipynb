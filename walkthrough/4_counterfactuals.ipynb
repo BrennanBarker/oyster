{
 "cells": [
  {
   "cell_type": "markdown",
   "metadata": {},
   "source": [
    "[<sup>Back to Table of Contents</sup>](0_intro_and_TOC.ipynb/#toc)<a id=\"counterfactuals\"></a>"
   ]
  },
  {
   "cell_type": "code",
   "execution_count": 1,
   "metadata": {},
   "outputs": [],
   "source": [
    "import oyster as oy"
   ]
  },
  {
   "cell_type": "markdown",
   "metadata": {},
   "source": [
    "# Counterfactuals (Under Construction)"
   ]
  },
  {
   "cell_type": "markdown",
   "metadata": {},
   "source": [
    "I'm still working on this section, but here is an incomplete list of what I hope to eventually address:\n",
    "\n",
    "In general, focus on application of graphical methods to identifying Counterfactuals. Callback to backdoor for calculation, etc.\n",
    "\n",
    "> \"It is through counterfactual reinforcement that we learn to improve our decisionmaking processes and achive higher performance.\" Primer pg. 112\n",
    "\n",
    "- Counterfactual interpretation of backdoor\n",
    "- Counterfactual identifiability (Shpitser)\n",
    "- Mediation: Direct and Indirect Effects\n",
    "- Examples?\n",
    "    \n",
    "    - Effect of the treatment on the treated (graphical example?)\n",
    "        - Simple formula for binary X\n",
    "    - Additive Interventions\n",
    "    - Probability of Necessity (PN) and Blame\n",
    "    - Probability of Sufficiency (PS) and Regret\n",
    "    - PNS and Attribution\n",
    "    - Monotoncity"
   ]
  },
  {
   "cell_type": "code",
   "execution_count": null,
   "metadata": {},
   "outputs": [],
   "source": []
  }
 ],
 "metadata": {
  "kernelspec": {
   "display_name": "Python 3",
   "language": "python",
   "name": "python3"
  },
  "language_info": {
   "codemirror_mode": {
    "name": "ipython",
    "version": 3
   },
   "file_extension": ".py",
   "mimetype": "text/x-python",
   "name": "python",
   "nbconvert_exporter": "python",
   "pygments_lexer": "ipython3",
   "version": "3.7.7"
  }
 },
 "nbformat": 4,
 "nbformat_minor": 4
}
