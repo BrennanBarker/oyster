{
 "cells": [
  {
   "cell_type": "code",
   "execution_count": 1,
   "metadata": {},
   "outputs": [],
   "source": [
    "import oyster as oy"
   ]
  },
  {
   "cell_type": "markdown",
   "metadata": {},
   "source": [
    "# Counterfactuals (Under Construction)"
   ]
  },
  {
   "cell_type": "markdown",
   "metadata": {},
   "source": [
    "General, focus on application of graphical methods to identifying Counterfactuals. \n",
    "callbacks to backdoor for calculation, etc.)\n",
    "\n",
    "- Counterfactual interpretation of backdoor\n",
    "- Counterfactual identifiability (Shpitser)\n",
    "- Mediation: Direct and Indirect Effects\n",
    "- Examples?\n",
    "    \n",
    "    - Effect of the treatment on the treated (graphical example?)\n",
    "        - Simple formula for binary X\n",
    "    - Additive Interventions\n",
    "    - Probability of Necessity (PN) and Blame\n",
    "    - Probability of Sufficiency (PS) and Regret\n",
    "    - PNS and Attribution\n",
    "    - Monotoncity\n",
    "\n",
    "pg. 112: \"It is through counterfactual reinforcement that we learn to improve our decisionmaking processes and achive higher performance."
   ]
  }
 ],
 "metadata": {
  "kernelspec": {
   "display_name": "Python 3",
   "language": "python",
   "name": "python3"
  },
  "language_info": {
   "codemirror_mode": {
    "name": "ipython",
    "version": 3
   },
   "file_extension": ".py",
   "mimetype": "text/x-python",
   "name": "python",
   "nbconvert_exporter": "python",
   "pygments_lexer": "ipython3",
   "version": "3.7.7"
  }
 },
 "nbformat": 4,
 "nbformat_minor": 4
}
