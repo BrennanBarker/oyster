{
 "cells": [
  {
   "cell_type": "markdown",
   "metadata": {},
   "source": [
    "<sup>[Back to Table of Contents](0_intro_and_TOC.ipynb/#toc)</sup> <a id=\"prelim\"></a>"
   ]
  },
  {
   "cell_type": "markdown",
   "metadata": {},
   "source": [
    "## Preliminaries \n",
    "### What are Causal Diagrams? <a id=\"causalDiagrams\"></a>"
   ]
  },
  {
   "cell_type": "markdown",
   "metadata": {},
   "source": [
    "In data science (or really, any science, or indeed much of analysis even outside science), the goal is to take a dataset (obtained from an experiment, clinical trial, observational study, polling, testimony, historical expertise, etc.), and to extrapolate from that dataset the meaningful relationships between the variables in the dataset. In science, the presence and strength of relationships between variables is used to validate or invalidate a hypothesis.  In analysis, these relationships can inform questions relevant to the formation of a policy:\n",
    "\n",
    "| Question | Policy |\n",
    "| -------- | ------ |\n",
    "| How much of an increase in sales do we get from newspaper vs radio advertising in a given market? | How should I allocate my advertising budget? |\n",
    "| What factors contribute most to recidivism among prison inmates? | Should we invest in jobs training? High school equivalencies? |\n",
    "| To what extent does smoking actually cause cancer, vice other risk factors? | Should we force tobacco companies to display a health warning? |\n",
    "\n",
    "Unfortunately, analyzing data can only get us so far, because data themselves have no information about ***causation***.  A dataset tracking barnyard fowl activity and solar elevation can tell you that the rooster's crow is highly ***correllated*** with the sunrise, but it cannot in and of itself tell you which caused the other.  Another dataset tracking murder rates and ice cream sales will tell you that these two variables are correlated, but we know that neither causes the other; rather higher temperatures seem to increase both.\n",
    "\n",
    "Thus the hackneyed phrase \"correlation does not imply causation.\"  However, while that statement might be true, it doesn't mean the search for causal relationships is fruitless.\n",
    "\n",
    "Whether we are interpreting data,[<sup>1</sup>](#footnote1) <a id=\"back1\"></a> informing policy, or making any number of decisions in every day life, going from correlations in data to causal assessments is done by (consciously or unconsciously) applying a ***causal model***.  Whether developed as part of the experimental design process, or from expert knowledge, or simply as a (potentially unstated) set of assumptions, a causal model defines which variables have causal relationships with one another, and in which direction the \"causal arrow\" points.  It is the causal model that defines which statistical procedures are justified when determing the true effect of one variable on another; in other words, which variables ought to be \"controlled\" for.[<sup>2</sup>](#footnote2)<a id=\"back2\"></a>\n",
    "\n",
    "***Causal Diagrams*** are one way to capture the relationships and assumptions in a causal model. Specifically, causal diagrams are drawings with a dot for each variable that we assume is relevent to producing the outcome of interest, and arrows drawn between the dots; from causes to their immediate effects.  The great thing about causal diagrams—perhaps their single greatest feature—is that you don't need to know anything about statistics in order to draw one.  This means that analysts, data scientists, data collectors, subject matter experts, and consumers like policymakers can use the common language of causal diagrams to not just generate causal results, but *just as importantly* to explain their results to one another or argue for a different interpretation of the data.\n",
    "\n",
    "It turns out that these simple drawings of dots and arrows form a specific kind of mathematical object called a ***directed acyclic graph (DAG)***. Mathematicians and computer scientists, in particular Judea Pearl, have developed a rich set of algorithms that take a DAG as input and output the correct statistical procedures to apply to a dataset to generate causal assessments consistent with the causal model encoded in the DAG. Intelligent people may very well disagree about the causal model for a given process, but the statistical interpretation of data consistent with a given model is set in stone by the laws of logic and probability.\n",
    "\n",
    "***Oyster*** is a software package written in Python for working with causal diagrams that implements many of Pearl et al.'s algorithms behind the scenes. Once supplied with a DAG, Oyster's goal is to provide a set of functions that accesses these algorithms to resolve common causal inquiries.\n",
    "\n",
    "Which leads to our first question:  **How does one supply Oyster with a DAG?**\n",
    "\n",
    "---"
   ]
  },
  {
   "cell_type": "markdown",
   "metadata": {},
   "source": [
    "### Creating and Drawing Causal Diagrams <a id=\"create\"></a>"
   ]
  },
  {
   "cell_type": "markdown",
   "metadata": {},
   "source": [
    "Let's start by importing Oyster."
   ]
  },
  {
   "cell_type": "code",
   "execution_count": 1,
   "metadata": {},
   "outputs": [],
   "source": [
    "import oyster as oy"
   ]
  },
  {
   "cell_type": "markdown",
   "metadata": {},
   "source": [
    "In Oyster, causal diagrams (Pearl often calls them simply \"Graphs\" or \"Directed Acyclic Graphs (DAGs)\"; so will we) are instances of the `CausalDiagram` class.  The easiest way to initialize a `CausalDiagram` is by providing an edge list: a list of two-element tuples corresponding to the edges from the first element in the tuple (the causal variable) to the second element (the effect variable) in the graph.  Order is important!\n",
    "\n",
    "In these examples I typically use a single letter string to represent a variable.  Oyster will also accept multi-letter strings, or actually any kind of hashable object."
   ]
  },
  {
   "cell_type": "code",
   "execution_count": 2,
   "metadata": {},
   "outputs": [],
   "source": [
    "fig1_8 = oy.CausalDiagram(([('X', 'W'), ('X', 'Y'), # From Pearl's Primer, study question 1.4.1.\n",
    "                            ('W', 'Y'), ('W', 'Z'), \n",
    "                            ('Y', 'T'), ('Y', 'Z'), \n",
    "                            ('Z', 'T')]))"
   ]
  },
  {
   "cell_type": "markdown",
   "metadata": {},
   "source": [
    "Once created, you can access many properties of your graph via various methods and attributes.[<sup>3</sup>](#footnote3) <a id=\"back3\"></a>  For instance we can inspect the nodes of the graph we just created:"
   ]
  },
  {
   "cell_type": "code",
   "execution_count": 3,
   "metadata": {},
   "outputs": [
    {
     "data": {
      "text/plain": [
       "NodeView(('X', 'W', 'Y', 'Z', 'T'))"
      ]
     },
     "execution_count": 3,
     "metadata": {},
     "output_type": "execute_result"
    }
   ],
   "source": [
    "fig1_8.nodes # the set of nodes in fig1_8"
   ]
  },
  {
   "cell_type": "markdown",
   "metadata": {},
   "source": [
    "Use Oyster's `draw` function to draw graphs.  You can specify a dictionary of Cartesian coordinates to specify the position of a graph's nodes using the `pos` keyword argument:"
   ]
  },
  {
   "cell_type": "code",
   "execution_count": 4,
   "metadata": {},
   "outputs": [
    {
     "data": {
      "image/png": "[encoded data removed]",
      "text/plain": [
       "<Figure size 432x288 with 1 Axes>"
      ]
     },
     "metadata": {},
     "output_type": "display_data"
    }
   ],
   "source": [
    "oy.draw(fig1_8, \n",
    "        pos={'X': (0,0), 'W': (1,1), 'Y': (1,0), 'Z': (2,0), 'T':(1.5, -.5)},\n",
    "        title='Figure 1.8')"
   ]
  },
  {
   "cell_type": "markdown",
   "metadata": {},
   "source": [
    "Oyster provides many pre-specified example graphs in the `oyster.example` module, aliased at `oy.ex`.  Many graphs from figures in the Primer are available as `oy.ex.primer['fig<Chapter#>_<Fig#>']`.  \n",
    "\n",
    "If done this way, `oy.draw` will automatically resolve positions for these graphs as printed in the book or journal article."
   ]
  },
  {
   "cell_type": "code",
   "execution_count": 5,
   "metadata": {},
   "outputs": [
    {
     "data": {
      "image/png": "[encoded data removed]",
      "text/plain": [
       "<Figure size 432x288 with 1 Axes>"
      ]
     },
     "metadata": {},
     "output_type": "display_data"
    }
   ],
   "source": [
    "fig1_8_another_way = oy.ex.primer['fig1_8']\n",
    "oy.draw(fig1_8_another_way, title='Figure 1.8')"
   ]
  },
  {
   "cell_type": "markdown",
   "metadata": {},
   "source": [
    "## Ancestry in Causal Diagrams <a id=\"ancestry\"></a>"
   ]
  },
  {
   "cell_type": "markdown",
   "metadata": {},
   "source": [
    "Oyster provides several utility functions for examining the \"ancestral elements\" of a graph, e.g. a given node's \"parents\", \"children\", \"ancestors\", and \"descendants.\"  While the analogy between DAGs and a family lineage is sometimes a stretch,[<sup>4</sup>](#footnote4) <a id=\"back4\"></a> it's convenient to refer to a node's \"parents\" as the nodes with arrows pointing directly to it, a nodes' \"ancestors\" as its parents + grandparents + great-grandparents + ..., and so on.\n",
    "\n",
    "There is some disagreement in the literature about whether the set of a node's descendants and ancestors includes the node itself.  Oyster does not include it, the R package Daggity does."
   ]
  },
  {
   "cell_type": "markdown",
   "metadata": {},
   "source": [
    "> #### Study Question 1.4.1 <a id=\"sq141\"></a>\n",
    "> For Figure 1.8, list the...\n",
    "> a) Parents of Z; b) Ancestors of Z; c) Children of W; d) Descendants of W"
   ]
  },
  {
   "cell_type": "code",
   "execution_count": 6,
   "metadata": {},
   "outputs": [
    {
     "data": {
      "text/plain": [
       "{'W', 'Y'}"
      ]
     },
     "execution_count": 6,
     "metadata": {},
     "output_type": "execute_result"
    }
   ],
   "source": [
    "oy.Pa(fig1_8, 'Z') # The parents of Z in Figure 1.8 (Primer SQ1.4.1 a)"
   ]
  },
  {
   "cell_type": "code",
   "execution_count": 7,
   "metadata": {},
   "outputs": [
    {
     "data": {
      "text/plain": [
       "{'W', 'X', 'Y'}"
      ]
     },
     "execution_count": 7,
     "metadata": {},
     "output_type": "execute_result"
    }
   ],
   "source": [
    "oy.An(fig1_8, 'Z') # The ancestors of Z in Figure 1.8 (Primer SQ1.4.1 b)"
   ]
  },
  {
   "cell_type": "code",
   "execution_count": 8,
   "metadata": {},
   "outputs": [
    {
     "data": {
      "text/plain": [
       "{'Y', 'Z'}"
      ]
     },
     "execution_count": 8,
     "metadata": {},
     "output_type": "execute_result"
    }
   ],
   "source": [
    "oy.Ch(fig1_8, 'W') # The children of W in Figure 1.8 (Primer SQ1.4.1 c)"
   ]
  },
  {
   "cell_type": "code",
   "execution_count": 9,
   "metadata": {},
   "outputs": [
    {
     "data": {
      "text/plain": [
       "{'T', 'Y', 'Z'}"
      ]
     },
     "execution_count": 9,
     "metadata": {},
     "output_type": "execute_result"
    }
   ],
   "source": [
    "oy.De(fig1_8, 'W') # The descendants of W in Figure 1.8 (Primer SQ1.4.1 d)"
   ]
  },
  {
   "cell_type": "markdown",
   "metadata": {},
   "source": [
    "## Paths in Causal Diagrams <a id=\"paths\"></a>"
   ]
  },
  {
   "cell_type": "markdown",
   "metadata": {},
   "source": [
    "In Pearl's causal lexicon, a \"simple path\" is any adjacent set of edges between two nodes, regardless of the edges' direction.  If you put your finger on one node and can get to another by tracing along the lines (without worrying about the arrowheads and without crossing the same node twice) and then you have followed a path—potentially one of several—between those nodes.\n",
    "\n",
    "Oyster's `paths` function returns the paths between two nodes in a graph as a collection of subgraphs, each representing a path.  The `print_path` function prints these subgraphs as text, one path on each line."
   ]
  },
  {
   "cell_type": "markdown",
   "metadata": {},
   "source": [
    "> #### Study Question 1.4.1, cont'd <a id=\"sq141contd\"></a>\n",
    "> e) Draw all (simple) paths between X and T in Figure 1.8"
   ]
  },
  {
   "cell_type": "code",
   "execution_count": 10,
   "metadata": {},
   "outputs": [
    {
     "name": "stdout",
     "output_type": "stream",
     "text": [
      "X -> Y <- W -> Z -> T\n",
      "X -> Y -> Z -> T\n",
      "X -> Y -> T\n",
      "X -> W -> Y -> Z -> T\n",
      "X -> W -> Y -> T\n",
      "X -> W -> Z <- Y -> T\n",
      "X -> W -> Z -> T\n"
     ]
    }
   ],
   "source": [
    "for path in oy.paths(fig1_8, 'X', 'T'): \n",
    "    oy.print_path(path, start='X') "
   ]
  },
  {
   "cell_type": "markdown",
   "metadata": {},
   "source": [
    "Or simply use the `print_paths` function:"
   ]
  },
  {
   "cell_type": "code",
   "execution_count": 11,
   "metadata": {},
   "outputs": [
    {
     "name": "stdout",
     "output_type": "stream",
     "text": [
      "X -> Y <- W -> Z -> T\n",
      "X -> Y -> Z -> T\n",
      "X -> Y -> T\n",
      "X -> W -> Y -> Z -> T\n",
      "X -> W -> Y -> T\n",
      "X -> W -> Z <- Y -> T\n",
      "X -> W -> Z -> T\n"
     ]
    }
   ],
   "source": [
    "oy.print_paths(fig1_8, 'X', 'T')"
   ]
  },
  {
   "cell_type": "markdown",
   "metadata": {},
   "source": [
    "> f) Draw all directed paths between X and T"
   ]
  },
  {
   "cell_type": "markdown",
   "metadata": {},
   "source": [
    "Pearl calls paths \"directed\" if they respect the direction of the edges (i.e. no \"swimming upstream\"). Set keyword argument `directed=True` in `paths` or `print_paths` to restrict to directed paths."
   ]
  },
  {
   "cell_type": "code",
   "execution_count": 12,
   "metadata": {},
   "outputs": [
    {
     "name": "stdout",
     "output_type": "stream",
     "text": [
      "X -> W -> Y -> T\n",
      "X -> W -> Y -> Z -> T\n",
      "X -> W -> Z -> T\n",
      "X -> Y -> T\n",
      "X -> Y -> Z -> T\n"
     ]
    }
   ],
   "source": [
    "oy.print_paths(fig1_8, 'X', 'T', directed=True)"
   ]
  },
  {
   "cell_type": "markdown",
   "metadata": {},
   "source": [
    "### Causal Diagrams as an Abstraction of Structural Equations <a id=\"sems\"></a>"
   ]
  },
  {
   "cell_type": "markdown",
   "metadata": {},
   "source": [
    "Causal Diagrams are just one of many ways to encode causal information.  Another method is in the form of equations in structural causal models (SCMs).  In an SCM, each variable is related to one or more of the others by a function.  Using the functions, each variable can be calculated given values for the variables in its equation (plus some error terms to account for factors beyond what we've specified directly).\n",
    "\n",
    "Causal Diagrams encode some but not all of the same information as a structural causal model; specifically, the Causal Diagram has arrows from the variables on the right-hand-side of a structural equation to the variables on the left.  However, Causal diagrams do not attempt to encode the details of the structural equations.  This ***abstraction*** of the details of a structural equation is a feature, not a bug. It makes Causal Diagrams more useful than structural equations in at least two ways:\n",
    "- *Causal Diagrams can represent nonlinear and nonparametric relationships.*  Often, researchers must make simplifying assumptions about the nature of the relationships between variables (e.g. linearity) and how errors are arrayed (e.g. normality) in order to make the math behind analytic calculations tractable.  Sometimes these assumptions are fine, but the world usually works in ways that aren't perfectly captured by these assumptions, which biases the results of an analysis. Most of the results of graphical causal inference do not require linearity or normality and work no matter how complicated the \"true\" relationship. \n",
    "- *Causal Diagrams are more intuitive.* Which of the below would be easier to explain to a policymaker with Masters degrees in history and international relations: the equations or the DAG? Even those with loads of mathematical experience would probably have a hard time visualizing the interactions between several or even dozens of variables without the aid of a causal diagram."
   ]
  },
  {
   "cell_type": "markdown",
   "metadata": {},
   "source": [
    "> #### Study Question 1.5.1 <a id=\"sq151\"></a>\n",
    "> Draw the graph corresponding to the below structural equation model."
   ]
  },
  {
   "cell_type": "markdown",
   "metadata": {},
   "source": [
    "\\begin{equation*}\n",
    "f_X: X = U_X \\hspace{20pt}\n",
    "f_Y: Y = \\frac{X}{3} + U_Y \\hspace{20pt}\n",
    "f_Y: Z = \\frac{Y}{16} + U_Z \\\\\n",
    "\\end{equation*}"
   ]
  },
  {
   "cell_type": "code",
   "execution_count": 13,
   "metadata": {},
   "outputs": [
    {
     "data": {
      "image/png": "[encoded data removed]",
      "text/plain": [
       "<Figure size 432x288 with 1 Axes>"
      ]
     },
     "metadata": {},
     "output_type": "display_data"
    }
   ],
   "source": [
    "sq151 = oy.CausalDiagram([('Ux', 'X'), ('Uy', 'Y'), ('Uz', 'Z'), ('X', 'Y'), ('Y', 'Z')])\n",
    "sq151pos = {'X': (0,0),'Y': (1,0),'Z': (2,0),'Ux': (0,-1),'Uy': (1,-1),'Uz': (2,-1),}\n",
    "oy.draw(sq151, pos=sq151pos, title='The above equations as a Causal Diagram')"
   ]
  },
  {
   "cell_type": "markdown",
   "metadata": {},
   "source": [
    "You now have a foundation in what Causal Diagrams are and how to create and inspect them using Oyster.  <a href=\"2_applications_of_causal_diagrams.ipynb\">The next section focuses on their applications.</a>"
   ]
  },
  {
   "cell_type": "markdown",
   "metadata": {},
   "source": [
    "#### Footnotes \n",
    "---\n",
    "\n",
    "<a id=\"footnote1\"></a>\n",
    "[1] Some statisticians argue that applying a causal model is outside their scope; that their role is only to relay correlative relationships.  Not only does this view close off entire fields of inquiry as unresolvable, it also does not remove the need for a causal model to generate an actionable assessment. It simply shifts responsibility to a study's consumers, who may or may not have the training and knowledge of the data-generating process to required to generate a realistic and unbiased model. [↻](#back1)\n",
    "\n",
    "<a id=\"footnote2\"></a>\n",
    "[2] This is a slight abuse of the technical meaning of the word \"control,\" as removing spurrious correlations can be done with several kinds of both experimental and statistical procedures. [↻](#back2)\n",
    "\n",
    "<a id=\"footnote3\"></a>\n",
    "[3] CausalDiagram subclasses the DiGraph class in the excellent [NetworkX](https://networkx.github.io) package, so many methods and attributes from `networkx.DiGraph` are available in `oyster.CausalDiagram`. In fact, Oyster relies on NetworkX for most of its backend, so many thanks to the NetworkX team.[↻](#back3)\n",
    "\n",
    "<a id=\"footnote4\"></a>\n",
    "[4] For example, in Figure 1.8, T's parents are Y and Z, but Y is also Z's parent. Incestual relationships are common in DAGs. Variables can also have any number of parents. [↻](#back4)"
   ]
  }
 ],
 "metadata": {
  "kernelspec": {
   "display_name": "Python 3",
   "language": "python",
   "name": "python3"
  },
  "language_info": {
   "codemirror_mode": {
    "name": "ipython",
    "version": 3
   },
   "file_extension": ".py",
   "mimetype": "text/x-python",
   "name": "python",
   "nbconvert_exporter": "python",
   "pygments_lexer": "ipython3",
   "version": "3.7.7"
  }
 },
 "nbformat": 4,
 "nbformat_minor": 4
}
