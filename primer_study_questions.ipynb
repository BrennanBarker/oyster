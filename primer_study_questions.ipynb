{
 "cells": [
  {
   "cell_type": "code",
   "execution_count": 1,
   "metadata": {},
   "outputs": [],
   "source": [
    "import oyster as oy"
   ]
  },
  {
   "cell_type": "markdown",
   "metadata": {},
   "source": [
    "## Table of Contents\n",
    "- [Introduction](#intro)\n",
    "- [Preliminaries](#prelim)\n",
    "    - [Study question 1.4.1](#sq141)\n",
    "    - [Study question 1.5.1](#sq151)\n",
    "        - [Causal diagrams as a useful, high-level abstraction](#abstraction)\n",
    "- [Graphical Models and Their Applications](#graphsAndApps)\n",
    "    - [Study question 2.3.1](#sq231)\n",
    "        - [D-Separation](#d_sep_graph)\n",
    "    - [Study question 2.4.1](#sq241)\n",
    "        - [Implied Independencies as Testable Implications](#impliedIndependencies)\n",
    "        - [Minimal Separating Sets to Maximize Sample Size](#minsets)\n",
    "        - [Markov Blankets as Optimal Predictors](#mb)\n",
    "        - [Causal Diagram Analysis for Variable Selection](#variableSelection)\n",
    "    - [Study question 2.5.1](#sq251)\n",
    "        - [Equivalence Classes & CPDAGs for Causal Search and Alternative Hypotheses](#cpdag)\n",
    "- [The Effects of Interventions](#interventions)\n",
    "    - [Study question 3.3.1](#sq331)\n",
    "    - [Study question 3.4.1 (Lord's Paradox)](#sq341)\n",
    "    - [Study question 3.5.1](#sq351)"
   ]
  },
  {
   "cell_type": "markdown",
   "metadata": {},
   "source": [
    "# Introduction <a id=\"intro\"></a>\n",
    "Learn Oyster in this walkthrough of selected examples from Judea Pearl's *Causal Inference in Statistics: A Primer*.  Credit to Johannes Textor, Andrew Forney, and Judea Pearl for [their approach](http://dagitty.net/primer/) to teaching the R package Daggity.  This walkthrough focuses on study questions that are graphical in nature, so it skips several questions from the primer as well as some questions addressed in Textor's walkthrough, while adding a couple others.  Along the way, I try to convey some of the key insights I learned from the Primer in my own words.  These are usually keyed with ***bold italics*** and are linked at the third indent level in the table of contents."
   ]
  },
  {
   "cell_type": "markdown",
   "metadata": {},
   "source": [
    "### Study Question 1.4.1 <a id=\"sq141\"></a>\n",
    "#### Consider the graph shown in Figure 1.8..."
   ]
  },
  {
   "cell_type": "markdown",
   "metadata": {},
   "source": [
    "In Oyster, causal diagrams (Pearl often calls them simply \"Graphs\" or \"Directed Acyclic Graphs (DAGs)\"; so will we) are instances of the `CausalDiagram` class. The easiest way to initialize a `CausalDiagram` is by providing a list of two-tuples corresponding to the edges in the graph.  Order is important, as the edges are directed from the first node in the tuple to the second."
   ]
  },
  {
   "cell_type": "code",
   "execution_count": 2,
   "metadata": {},
   "outputs": [],
   "source": [
    "fig1_8 = oy.CausalDiagram(([('X', 'W'), ('X', 'Y'), \n",
    "                            ('W', 'Y'), ('W', 'Z'), \n",
    "                            ('Y', 'T'), ('Y', 'Z'), \n",
    "                            ('Z', 'T')]))"
   ]
  },
  {
   "cell_type": "markdown",
   "metadata": {},
   "source": [
    "CausalDiagram subclasses the DiGraph class in the excellent [NetworkX](https://networkx.github.io) package, so many methods and attributes from `networkx.DiGraph` are available in `oyster.CausalDiagram`. In fact, Oyster relies on NetworkX for most of its backend, so many thanks to the NetworkX team."
   ]
  },
  {
   "cell_type": "code",
   "execution_count": 3,
   "metadata": {},
   "outputs": [
    {
     "data": {
      "text/plain": [
       "NodeView(('X', 'W', 'Y', 'Z', 'T'))"
      ]
     },
     "execution_count": 3,
     "metadata": {},
     "output_type": "execute_result"
    }
   ],
   "source": [
    "fig1_8.nodes # the set of nodes in fig1_8"
   ]
  },
  {
   "cell_type": "markdown",
   "metadata": {},
   "source": [
    "Use Oyster's `draw` function to draw graphs.  You can specify a dictionary of absolute positions to for where to draw the graph's nodes using the `pos` keyword argument."
   ]
  },
  {
   "cell_type": "code",
   "execution_count": 4,
   "metadata": {},
   "outputs": [
    {
     "data": {
      "image/png": "[encoded data removed]",
      "text/plain": [
       "<Figure size 432x288 with 1 Axes>"
      ]
     },
     "metadata": {},
     "output_type": "display_data"
    }
   ],
   "source": [
    "oy.draw(fig1_8, \n",
    "        pos={'X': (0,0), 'W': (1,1), 'Y': (1,0), 'Z': (2,0), 'T':(1.5, -.5)},\n",
    "        title='Figure 1.8')"
   ]
  },
  {
   "cell_type": "markdown",
   "metadata": {},
   "source": [
    "Oyster provides many pre-specified example graphs in the `oyster.example` module.  Many graphs from figures in the Primer are available as `oy.ex.primer['fig<Chapter#>_<Fig#>']`.  \n",
    "\n",
    "If done this way, `oy.draw` will automatically resolve positions for these graphs as drawn in the book."
   ]
  },
  {
   "cell_type": "code",
   "execution_count": 5,
   "metadata": {},
   "outputs": [
    {
     "data": {
      "image/png": "[encoded data removed]",
      "text/plain": [
       "<Figure size 432x288 with 1 Axes>"
      ]
     },
     "metadata": {},
     "output_type": "display_data"
    }
   ],
   "source": [
    "fig1_8_another_way = oy.ex.primer['fig1_8']\n",
    "oy.draw(fig1_8_another_way, title='Figure 1.8')"
   ]
  },
  {
   "cell_type": "markdown",
   "metadata": {},
   "source": [
    "Oyster provides several utility functions for examining ancestral elements of a graph:"
   ]
  },
  {
   "cell_type": "markdown",
   "metadata": {},
   "source": [
    "#### a) Name all of the parents of Z"
   ]
  },
  {
   "cell_type": "code",
   "execution_count": 6,
   "metadata": {},
   "outputs": [
    {
     "data": {
      "text/plain": [
       "{'W', 'Y'}"
      ]
     },
     "execution_count": 6,
     "metadata": {},
     "output_type": "execute_result"
    }
   ],
   "source": [
    "oy.Pa(fig1_8, 'Z')"
   ]
  },
  {
   "cell_type": "markdown",
   "metadata": {},
   "source": [
    "#### b) Name all of the ancestors of Z"
   ]
  },
  {
   "cell_type": "code",
   "execution_count": 7,
   "metadata": {},
   "outputs": [
    {
     "data": {
      "text/plain": [
       "{'W', 'X', 'Y'}"
      ]
     },
     "execution_count": 7,
     "metadata": {},
     "output_type": "execute_result"
    }
   ],
   "source": [
    "oy.An(fig1_8, 'Z')"
   ]
  },
  {
   "cell_type": "markdown",
   "metadata": {},
   "source": [
    "*There is some disagreement in the literature about whether the set of a node's ancestors includes the node itself.  Oyster does not include it, the R package Daggity does."
   ]
  },
  {
   "cell_type": "markdown",
   "metadata": {},
   "source": [
    "#### c) Name all of the children of W"
   ]
  },
  {
   "cell_type": "code",
   "execution_count": 8,
   "metadata": {},
   "outputs": [
    {
     "data": {
      "text/plain": [
       "{'Y', 'Z'}"
      ]
     },
     "execution_count": 8,
     "metadata": {},
     "output_type": "execute_result"
    }
   ],
   "source": [
    "oy.Ch(fig1_8, 'W')"
   ]
  },
  {
   "cell_type": "markdown",
   "metadata": {},
   "source": [
    "#### d) Name all of the descendants of W"
   ]
  },
  {
   "cell_type": "code",
   "execution_count": 9,
   "metadata": {},
   "outputs": [
    {
     "data": {
      "text/plain": [
       "{'T', 'Y', 'Z'}"
      ]
     },
     "execution_count": 9,
     "metadata": {},
     "output_type": "execute_result"
    }
   ],
   "source": [
    "oy.De(fig1_8, 'W')"
   ]
  },
  {
   "cell_type": "markdown",
   "metadata": {},
   "source": [
    "*There is some disagreement in the literature about whether to include the node itself in its set of descendants.  Oyster does not, the R package Daggity does."
   ]
  },
  {
   "cell_type": "markdown",
   "metadata": {},
   "source": [
    "#### e) Draw all (simple) paths between X and T"
   ]
  },
  {
   "cell_type": "markdown",
   "metadata": {},
   "source": [
    "In Pearl's causal lexicon, a simple path is any adjacent set of edges between two nodes.\n",
    "\n",
    "Oyster's `paths` function returns the paths between two nodes in a graph as a collection of subgraphs, each representing a path.  The `print_path` function prints these linear subgraphs as text."
   ]
  },
  {
   "cell_type": "code",
   "execution_count": 10,
   "metadata": {},
   "outputs": [
    {
     "name": "stdout",
     "output_type": "stream",
     "text": [
      "X -> W -> Z -> T\n",
      "X -> W -> Z <- Y -> T\n",
      "X -> W -> Y -> Z -> T\n",
      "X -> W -> Y -> T\n",
      "X -> Y <- W -> Z -> T\n",
      "X -> Y -> Z -> T\n",
      "X -> Y -> T\n"
     ]
    }
   ],
   "source": [
    "for path in oy.paths(fig1_8, 'X', 'T'): \n",
    "    oy.print_path(path, start='X') "
   ]
  },
  {
   "cell_type": "markdown",
   "metadata": {},
   "source": [
    "Or simply use the `print_paths` function:"
   ]
  },
  {
   "cell_type": "code",
   "execution_count": 11,
   "metadata": {},
   "outputs": [
    {
     "name": "stdout",
     "output_type": "stream",
     "text": [
      "X -> W -> Z -> T\n",
      "X -> W -> Z <- Y -> T\n",
      "X -> W -> Y -> Z -> T\n",
      "X -> W -> Y -> T\n",
      "X -> Y <- W -> Z -> T\n",
      "X -> Y -> Z -> T\n",
      "X -> Y -> T\n"
     ]
    }
   ],
   "source": [
    "oy.print_paths(fig1_8, 'X', 'T')"
   ]
  },
  {
   "cell_type": "markdown",
   "metadata": {},
   "source": [
    "#### f) Draw all directed paths between X and T"
   ]
  },
  {
   "cell_type": "markdown",
   "metadata": {},
   "source": [
    "Set keyword argument `directed=True` to show only paths that take direction into account."
   ]
  },
  {
   "cell_type": "code",
   "execution_count": 12,
   "metadata": {},
   "outputs": [
    {
     "name": "stdout",
     "output_type": "stream",
     "text": [
      "X -> W -> Y -> T\n",
      "X -> W -> Y -> Z -> T\n",
      "X -> W -> Z -> T\n",
      "X -> Y -> T\n",
      "X -> Y -> Z -> T\n"
     ]
    }
   ],
   "source": [
    "oy.print_paths(fig1_8, 'X', 'T', directed=True)"
   ]
  },
  {
   "cell_type": "markdown",
   "metadata": {},
   "source": [
    "### Study Question 1.5.1 <a id=\"sq151\"></a>\n",
    "Suppose we have the following structural causal model (SCM).  Assume all exogenous variables $U_{i}$ are independent and that the expected value of each is 0.\n",
    "\n",
    "\\begin{equation*}\n",
    "V = \\{X, Y, Z\\}, \\hspace{20pt}\n",
    "U = \\{U_X, U_Y, U_Z\\}, \\hspace{20pt}\n",
    "F = \\{f_X,f_Y,f_Z\\} \\\\\n",
    "\\end{equation*}\n",
    "\\begin{equation*}\n",
    "f_X: X = U_X \\\\\n",
    "f_Y: Y = \\frac{X}{3} + U_Y \\\\\n",
    "f_Y: Z = \\frac{Y}{16} + U_Z \\\\\n",
    "\\end{equation*}"
   ]
  },
  {
   "cell_type": "markdown",
   "metadata": {},
   "source": [
    "#### a) Draw the graph that complies with the model"
   ]
  },
  {
   "cell_type": "markdown",
   "metadata": {},
   "source": [
    "<a id=\"abstraction\"></a>\n",
    "Pearl's definition of a causal graph states that for every variable with a structural equation, there should be an edge directed to that variable from all variables in its equation.  Importantly, ***the causal diagram graph doesn't care about the details of the structural equation.*** The relationship between two variables could be highly nonlinear, which complicates many analytic statistical methods, but at the level of abstraction of the graph, it doesn't matter.  Pearl's insight is that even at their high level, causal graphs can tell us many useful things, which the next sections get into in more detail."
   ]
  },
  {
   "cell_type": "code",
   "execution_count": 13,
   "metadata": {},
   "outputs": [
    {
     "data": {
      "image/png": "[encoded data removed]",
      "text/plain": [
       "<Figure size 432x288 with 1 Axes>"
      ]
     },
     "metadata": {},
     "output_type": "display_data"
    }
   ],
   "source": [
    "sq151 = oy.CausalDiagram([('Ux', 'X'), ('Uy', 'Y'), ('Uz', 'Z'), ('X', 'Y'), ('Y', 'Z')])\n",
    "sq151pos = {'X': (0,0),'Y': (1,0),'Z': (2,0),'Ux': (0,-1),'Uy': (1,-1),'Uz': (2,-1),}\n",
    "oy.draw(sq151, pos=sq151pos)"
   ]
  },
  {
   "cell_type": "markdown",
   "metadata": {},
   "source": [
    "The rest of Study Question 1.5.1 is analytical in nature, we skip it here but many statistical python packages (such as `statsmodels`) can be used to answer or simulate the analytical questions in the Primer."
   ]
  },
  {
   "cell_type": "markdown",
   "metadata": {},
   "source": [
    "## Graphical Models and Their Applications <a id=\"graphsAndApps\"></a>"
   ]
  },
  {
   "cell_type": "markdown",
   "metadata": {},
   "source": [
    "### Study Question 2.3.1 <a id=\"sq231\"></a>"
   ]
  },
  {
   "cell_type": "markdown",
   "metadata": {},
   "source": [
    "#### a) List all pairs of variables in Figure 2.5 that are independent, conditional on the set Z = {R, V}"
   ]
  },
  {
   "cell_type": "markdown",
   "metadata": {},
   "source": [
    "Since this graph is linear, I can simply print it using `print_path`. I could also have drawn it using `draw`."
   ]
  },
  {
   "cell_type": "code",
   "execution_count": 14,
   "metadata": {},
   "outputs": [
    {
     "name": "stdout",
     "output_type": "stream",
     "text": [
      "Figure 2.5\n",
      "\n",
      "X -> R -> S -> T <- U <- V -> Y\n"
     ]
    }
   ],
   "source": [
    "fig2_5 = oy.CausalDiagram([('X', 'R'), ('R', 'S'), ('S', 'T'), \n",
    "                           ('U', 'T'), ('V', 'U'), ('V', 'Y')])\n",
    "print('Figure 2.5\\n')\n",
    "oy.print_path(fig2_5, start='X')"
   ]
  },
  {
   "cell_type": "markdown",
   "metadata": {},
   "source": [
    "Two variables are independent if the path between them is blocked by the conditioned variables.  If not, the variables are possibly (actually very likely, with a few specific  exceptions) dependent. Oyster's `d_separated` function generalizes the idea of blocking to arbitrary sets of potentially independent variables and conditioners."
   ]
  },
  {
   "cell_type": "code",
   "execution_count": 15,
   "metadata": {},
   "outputs": [
    {
     "name": "stdout",
     "output_type": "stream",
     "text": [
      "Given {R,V}...\n",
      "U and X are independent.\n",
      "U and S are independent.\n",
      "U and T are possibly dependent.\n",
      "U and Y are independent.\n",
      "X and S are independent.\n",
      "X and T are independent.\n",
      "X and Y are independent.\n",
      "S and T are possibly dependent.\n",
      "S and Y are independent.\n",
      "T and Y are independent.\n"
     ]
    }
   ],
   "source": [
    "Z = {'R', 'V'}\n",
    "print('Given {R,V}...')\n",
    "for a,b in oy.combinations(fig2_5.nodes - Z, 2): # for all pairs of nodes not in Z...\n",
    "    ind = oy.d_separated(fig2_5, a, b, Z)\n",
    "    if ind: print(f'{a} and {b} are independent.')\n",
    "    else: print(f'{a} and {b} are possibly dependent.')"
   ]
  },
  {
   "cell_type": "markdown",
   "metadata": {},
   "source": [
    "<a id=\"d_sep_graph\"></a>\n",
    "Pearl defines path d-seperation in terms of graphic structures called chains (A -> B -> C), forks (A <- B -> C) and colliders (A -> B <- C):  A path is blocked by a set of nodes Z iff the path contains a chain or fork such that the middle node (B above) is in Z, or the path contains a collider such that B is *not* in Z. Two nodes X and Y are d-separated by Z iff Z contains nodes that block every path between X and Y. \n",
    "\n",
    "Another way to understand d-seperation is the following ***graphical algorithm***, which automatically checks every path according to Pearl's rules above and works for multi-variable sets of X, Y, and/or Z:\n",
    "1. Draw the \"ancestral graph\" of the variables in question, i.e. the subgraph containing X, Y, Z, and their ancestors.\n",
    "1. \"Moralize\" the ancestral graph by adding edges between all parents of a node.\n",
    "1. Draw a subgraph of the moral graph, omitting nodes in Z.\n",
    "1. If X and Y are now disconnected, Z d-separates X and Y.\n",
    "\n",
    "Oyster provides a visualization for this algorithm with `d_sep_graphs`. Credit to [this worksheet](http://web.mit.edu/jmn/www/6.034/d-separation.pdf) from MIT."
   ]
  },
  {
   "cell_type": "code",
   "execution_count": 16,
   "metadata": {},
   "outputs": [
    {
     "name": "stdout",
     "output_type": "stream",
     "text": [
      "X d-separated from Y by {'U', 'R'}? True\n"
     ]
    },
    {
     "data": {
      "image/png": "[encoded data removed]",
      "text/plain": [
       "<Figure size 432x288 with 3 Axes>"
      ]
     },
     "metadata": {},
     "output_type": "display_data"
    }
   ],
   "source": [
    "fig = oy.ex.primer['fig2_5']\n",
    "X,Y,Z = 'X', 'Y', {'R','U'}\n",
    "print(f'{X} d-separated from {Y} by {Z}? {oy.d_separated(fig, X, Y, Z)}')\n",
    "oy.d_sep_graphs(fig, X, Y, Z)"
   ]
  },
  {
   "cell_type": "markdown",
   "metadata": {},
   "source": [
    "#### b) For each pair of non-adjacent variables in Figure 2.5, give a set of variables that, when conditioned on, renders that pair independent."
   ]
  },
  {
   "cell_type": "markdown",
   "metadata": {},
   "source": [
    "Oyster provides a utility function `NA_pairs` for selecting the nonadjacent pairs in a graph.\n",
    "\n",
    "Oyster's `d_separator_search` function conducts an exhaustive search for d_seperators over all possible combinations of the other nodes in a graph.  For simplicity, we select just one below."
   ]
  },
  {
   "cell_type": "code",
   "execution_count": 17,
   "metadata": {},
   "outputs": [
    {
     "name": "stdout",
     "output_type": "stream",
     "text": [
      "S,X: {'R'}\n",
      "T,X: {'S'}\n",
      "U,X: set()\n",
      "V,X: set()\n",
      "X,Y: set()\n",
      "R,T: {'S'}\n",
      "U,R: set()\n",
      "V,R: set()\n",
      "R,Y: set()\n",
      "U,S: set()\n",
      "S,V: set()\n",
      "S,Y: set()\n",
      "V,T: {'U'}\n",
      "T,Y: {'V'}\n",
      "U,Y: {'V'}\n"
     ]
    }
   ],
   "source": [
    "for a,b in oy.NA_pairs(fig2_5):\n",
    "    separators = oy.d_separator_search(fig2_5, a, b)[0] # just one set.\n",
    "    print(f'{a},{b}: {separators}')"
   ]
  },
  {
   "cell_type": "markdown",
   "metadata": {},
   "source": [
    "`set()` means that no variables need be conditioned on to render the pair independent.  In other words, they are *marginally independent*."
   ]
  },
  {
   "cell_type": "markdown",
   "metadata": {},
   "source": [
    "\n",
    "See [further discussion](#impliedIndependencies) of this concept of `implied independencies` and a better, dedicated Oyster tool for finding them in study question 2.4.1 below."
   ]
  },
  {
   "cell_type": "markdown",
   "metadata": {},
   "source": [
    "#### c) List all pairs of variables in the graph of Figure 2.6 that are independent conditional on the set Z={R,P}."
   ]
  },
  {
   "cell_type": "markdown",
   "metadata": {},
   "source": [
    "Pulling the graph from `oyster.examples`..."
   ]
  },
  {
   "cell_type": "code",
   "execution_count": 18,
   "metadata": {},
   "outputs": [
    {
     "data": {
      "image/png": "[encoded data removed]",
      "text/plain": [
       "<Figure size 432x288 with 1 Axes>"
      ]
     },
     "metadata": {},
     "output_type": "display_data"
    }
   ],
   "source": [
    "fig2_6 = oy.ex.primer['fig2_6']\n",
    "oy.draw(fig2_6, title='Figure 2.6')"
   ]
  },
  {
   "cell_type": "markdown",
   "metadata": {},
   "source": [
    "as in part a)..."
   ]
  },
  {
   "cell_type": "code",
   "execution_count": 19,
   "metadata": {},
   "outputs": [
    {
     "name": "stdout",
     "output_type": "stream",
     "text": [
      "Given {R,P}...\n",
      "V and X are independent.\n",
      "U and X are independent.\n",
      "X and S are independent.\n",
      "X and T are independent.\n",
      "X and Y are independent.\n"
     ]
    }
   ],
   "source": [
    "Z = {'R', 'P'}\n",
    "print('Given {R,P}...')\n",
    "for a,b in oy.combinations(fig2_6.nodes - Z, 2): # for all pairs of nodes not in Z...\n",
    "    ind = oy.d_separated(fig2_6, a, b, Z)\n",
    "    if ind: print(f'{a} and {b} are independent.')"
   ]
  },
  {
   "cell_type": "markdown",
   "metadata": {},
   "source": [
    "#### d) For each pair of non-adjacent variables in Figure 2.6, give a set of variables that, when conditioned on, renders that pair independent."
   ]
  },
  {
   "cell_type": "markdown",
   "metadata": {},
   "source": [
    "as in part b) (and recalling that I show [a better way below](#impliedIndependencies) using `implied_indepenencies`)."
   ]
  },
  {
   "cell_type": "code",
   "execution_count": 20,
   "metadata": {},
   "outputs": [
    {
     "name": "stdout",
     "output_type": "stream",
     "text": [
      "S,X: {'R'}\n",
      "T,X: {'S'}\n",
      "P,X: {'S'}\n",
      "U,X: set()\n",
      "V,X: set()\n",
      "X,Y: set()\n",
      "R,T: {'S'}\n",
      "P,R: {'S'}\n",
      "U,R: set()\n",
      "V,R: set()\n",
      "R,Y: set()\n",
      "S,P: {'T'}\n",
      "U,S: set()\n",
      "S,V: set()\n",
      "S,Y: set()\n",
      "V,T: {'U'}\n",
      "T,Y: {'V'}\n",
      "U,P: {'T'}\n",
      "P,V: {'U'}\n",
      "P,Y: {'V'}\n",
      "U,Y: {'V'}\n"
     ]
    }
   ],
   "source": [
    "for a,b in oy.NA_pairs(fig2_6):\n",
    "    separators = oy.d_separator_search(fig2_6, a, b)[0] # just one set.\n",
    "    print(f'{a},{b}: {separators}')"
   ]
  },
  {
   "cell_type": "markdown",
   "metadata": {},
   "source": [
    "#### e) Suppose we generate data by the model described in Figure 2.5, and we fit them with the linear equation Y = a + bX + cZ. Which of the variables in the model may be chosen for Z so as to guarantee that the slope b would be equal to zero?"
   ]
  },
  {
   "cell_type": "markdown",
   "metadata": {},
   "source": [
    "b = 0 iff X and Y are independent.  So in other words, which (single) variables Z d-separate X and Y?"
   ]
  },
  {
   "cell_type": "code",
   "execution_count": 21,
   "metadata": {},
   "outputs": [
    {
     "data": {
      "text/plain": [
       "[{'V'}, {'U'}, {'S'}, {'R'}]"
      ]
     },
     "execution_count": 21,
     "metadata": {},
     "output_type": "execute_result"
    }
   ],
   "source": [
    "[z for z in oy.d_separator_search(fig2_5, 'X', 'Y') if len(z) == 1]"
   ]
  },
  {
   "cell_type": "markdown",
   "metadata": {},
   "source": [
    "#### f) Continuing question (e), suppose we fit the data with the equation: \n",
    "\n",
    "\\begin{equation*}\n",
    "Y = a + bX + cR + dS + eT + fP\n",
    "\\end{equation*}\n",
    "\n",
    "#### which of the coefficients would be zero?"
   ]
  },
  {
   "cell_type": "markdown",
   "metadata": {},
   "source": [
    "Here, the question can be reworded as \"which of {X, R, S, T, P} is independent of Y, given the rest of the variables?\""
   ]
  },
  {
   "cell_type": "code",
   "execution_count": 22,
   "metadata": {},
   "outputs": [
    {
     "data": {
      "text/plain": [
       "['P', 'X', 'R']"
      ]
     },
     "execution_count": 22,
     "metadata": {},
     "output_type": "execute_result"
    }
   ],
   "source": [
    "variables = {'X', 'R', 'S', 'T', 'P'}\n",
    "\n",
    "[v for v in variables if oy.d_separated(fig2_6, v, 'Y', variables - {v})]"
   ]
  },
  {
   "cell_type": "markdown",
   "metadata": {},
   "source": [
    "### Study Question 2.4.1 <a id=\"sq241\"></a>\n",
    "#### Considering Figure 2.9..."
   ]
  },
  {
   "cell_type": "code",
   "execution_count": 23,
   "metadata": {},
   "outputs": [
    {
     "data": {
      "image/png": "[encoded data removed]",
      "text/plain": [
       "<Figure size 432x288 with 1 Axes>"
      ]
     },
     "metadata": {},
     "output_type": "display_data"
    }
   ],
   "source": [
    "fig2_9 = oy.ex.primer['fig2_9']\n",
    "oy.draw(fig2_9, title='Figure 2.9')"
   ]
  },
  {
   "cell_type": "markdown",
   "metadata": {},
   "source": [
    "#### a) For each pair of non-adjacent nodes in this graph, find a set of variables that d-separates that pair. What does this list tell us about independencies in the data?"
   ]
  },
  {
   "cell_type": "markdown",
   "metadata": {},
   "source": [
    "<a id=\"impliedIndependencies\"></a>\n",
    "If a pair of variables are d-separated, they are independent of one another, conditional on the variables that d-separate them.\n",
    "\n",
    "This concept is important because these ***implied independancies*** represent ***testable implications*** of a model. Given a dataset and a causal diagram proporting to explain it, one can examine the if two varaibles remain correlated after controlling for factors that d-separate the variables in the causal diagram. If so, then the model is flawed.\n",
    "\n",
    "Oyster provides a top-level function for finding displaying the independencies implied by a model."
   ]
  },
  {
   "cell_type": "code",
   "execution_count": 24,
   "metadata": {},
   "outputs": [
    {
     "name": "stdout",
     "output_type": "stream",
     "text": [
      "Implied independencies:\n",
      "X ⫫ Y | [{'Z2', 'W', 'Z3'}, {'W', 'Z3', 'Z1'}]\n",
      "Z2 ⫫ X | [{'Z3', 'Z1'}]\n",
      "W ⫫ Z1 | [{'X'}]\n",
      "W ⫫ Z3 | [{'X'}]\n",
      "Z2 ⫫ W | [{'X'}, {'Z3', 'Z1'}]\n",
      "Y ⫫ Z1 | [{'Z2', 'W', 'Z3'}, {'Z2', 'Z3', 'X'}]\n",
      "Z2 ⫫ Z1 | [set()]\n"
     ]
    }
   ],
   "source": [
    "oy.implied_independencies(fig2_9)"
   ]
  },
  {
   "cell_type": "markdown",
   "metadata": {},
   "source": [
    "<a id=\"minsets\"></a>\n",
    "Note that each set in the above lists represents a minimal separating set.  So, X and Y are independent given Z1, W, and Z3.  X and Y are also independent given Z2, W, and Z3.  Z1 and Z2 are independent without controlling for any variables.  There are more seperating sets for Figure 2.9 than the minimal sets listed above, but every other set is a superset of the minimal sets, (i.e. they include at least one extraneous variable).  ***Minimal separating sets*** are an important concept because they allow independencies to be analyzed with as few covariate adjustments as possible, which among other good things means the sample sizes for each matching covariate category are larger.  Oyster provides a utility function `minimal_sets` that determines the minimal sets from a provided list of sets.\n",
    "\n",
    "Another way to examine d-separating sets would be to run a `d_separator_search` for each nonadjacent pair. This is what `implied_independancies` does behind the scenes, returning only the `minimal_sets`."
   ]
  },
  {
   "cell_type": "code",
   "execution_count": 25,
   "metadata": {},
   "outputs": [
    {
     "name": "stdout",
     "output_type": "stream",
     "text": [
      "d-separating sets for X ⫫ Y in Figure 2.9:\n",
      "All: [{'Z2', 'W', 'Z3'}, {'W', 'Z3', 'Z1'}, {'Z2', 'W', 'Z3', 'Z1'}]\n",
      "Minimal: [{'Z2', 'W', 'Z3'}, {'W', 'Z3', 'Z1'}]\n"
     ]
    }
   ],
   "source": [
    "all_X_Y_d_separators = oy.d_separator_search(fig2_9, 'X', 'Y')\n",
    "print('d-separating sets for X ⫫ Y in Figure 2.9:')\n",
    "print(f'All: {all_X_Y_d_separators}')\n",
    "print(f'Minimal: {oy.minimal_sets(all_X_Y_d_separators)}')"
   ]
  },
  {
   "cell_type": "markdown",
   "metadata": {},
   "source": [
    "#### b) Repeat question (a) assuming that only variables in the set {Z3,W,X,Z1} can be measured."
   ]
  },
  {
   "cell_type": "markdown",
   "metadata": {},
   "source": [
    "Now, instead of taking the minimal sets as is done with `implied_independencies`, we will run an exhaustive `d_separator_search` against nonadjacent pairs, and filter the results such that the seperating sets include only measurable variables, and only for measurable pairs."
   ]
  },
  {
   "cell_type": "code",
   "execution_count": 26,
   "metadata": {},
   "outputs": [
    {
     "name": "stdout",
     "output_type": "stream",
     "text": [
      "W ⫫ Z1 | [{'X'}, {'Z3', 'X'}]\n",
      "W ⫫ Z3 | [{'X'}, {'X', 'Z1'}]\n"
     ]
    }
   ],
   "source": [
    "measurable = {'Z3','W','X','Z1'}\n",
    "\n",
    "all_d_seps_for_measurable_pairs = [(a,b, oy.d_separator_search(fig2_9, a, b))\n",
    "                                   for a,b in oy.NA_pairs(fig2_9) \n",
    "                                   if a in measurable and b in measurable]\n",
    "\n",
    "for (a,b,sep) in all_d_seps_for_measurable_pairs:\n",
    "    print(f'{a} ⫫ {b} | {list(filter(lambda s: s < measurable, sep))}')"
   ]
  },
  {
   "cell_type": "markdown",
   "metadata": {},
   "source": [
    "#### c) For each pair of non-adjacent nodes in the graph, determine whether they are independent conditional on all other variables."
   ]
  },
  {
   "cell_type": "code",
   "execution_count": 27,
   "metadata": {},
   "outputs": [
    {
     "name": "stdout",
     "output_type": "stream",
     "text": [
      "X ⫫ Y | {'Z2', 'W', 'Z3', 'Z1'}\n",
      "Z2 ⫫ X | {'W', 'Z3', 'Y', 'Z1'}\n",
      "W ⫫ Z1 | {'Z2', 'Z3', 'X', 'Y'}\n",
      "Y ⫫ Z1 | {'Z2', 'W', 'Z3', 'X'}\n"
     ]
    }
   ],
   "source": [
    "for (a,b) in oy.NA_pairs(fig2_9):\n",
    "    all_other_variables = fig2_9.nodes - {a} - {b}\n",
    "    ind = oy.d_separated(fig2_9, a, b, all_other_variables)\n",
    "    if ind: print(f'{a} ⫫ {b} | {all_other_variables}')"
   ]
  },
  {
   "cell_type": "markdown",
   "metadata": {},
   "source": [
    "#### d) For every variable V in the graph, find a minimal set of nodes that renders V independent of all other variables in the graph."
   ]
  },
  {
   "cell_type": "markdown",
   "metadata": {},
   "source": [
    "An important result from Bayesian Network theory is that V is independent of all other variables in the graph given the set of V's parents, V's children, and all the other parents of V's children.  This set is also guaranteed to be minimal.  This set is known as a variable's ***Markov Blanket***, and is accessed by the `MB` utility function."
   ]
  },
  {
   "cell_type": "code",
   "execution_count": 28,
   "metadata": {},
   "outputs": [
    {
     "name": "stdout",
     "output_type": "stream",
     "text": [
      "X ⫫ {'Z2', 'X', 'Y'} | {'W', 'Z3', 'Z1'}\n",
      "W ⫫ {'W', 'Z1'} | {'Z2', 'Z3', 'X', 'Y'}\n",
      "Y ⫫ {'Z1', 'X', 'Y'} | {'Z2', 'W', 'Z3'}\n",
      "Z1 ⫫ {'W', 'Y', 'Z1'} | {'Z2', 'Z3', 'X'}\n",
      "Z3 ⫫ {'Z3'} | {'Z1', 'W', 'Z2', 'X', 'Y'}\n",
      "Z2 ⫫ {'Z2', 'X'} | {'W', 'Z3', 'Y', 'Z1'}\n"
     ]
    }
   ],
   "source": [
    "for node in fig2_9.nodes:\n",
    "    mb = oy.MB(fig2_9, node)\n",
    "    print(f'{node} ⫫ {fig2_9.nodes - mb} | {mb}')"
   ]
  },
  {
   "cell_type": "markdown",
   "metadata": {},
   "source": [
    "#### e) Suppose we wish to estimate the value of Y from measurements taken on all other variables in the model. Find the smallest set of variables that would yield as good an estimate as before."
   ]
  },
  {
   "cell_type": "markdown",
   "metadata": {},
   "source": [
    "<a id=\"mb\"></a>\n",
    "This is an important application of the [Markov Blanket](https://en.wikipedia.org/wiki/Markov_blanket). As a corollary from the above discussion, a variable V's Markov Blanket is the minimal set of variables that contain the knowledge needed to predict V."
   ]
  },
  {
   "cell_type": "code",
   "execution_count": 29,
   "metadata": {},
   "outputs": [
    {
     "data": {
      "text/plain": [
       "{'W', 'Z2', 'Z3'}"
      ]
     },
     "execution_count": 29,
     "metadata": {},
     "output_type": "execute_result"
    }
   ],
   "source": [
    "oy.MB(fig2_9, 'Y')"
   ]
  },
  {
   "cell_type": "markdown",
   "metadata": {},
   "source": [
    "Alternatively, if you were a glutton for punishment you could take the minimal set of the intersection of the sets of sets that d-separate Y from every nonadjacent node:"
   ]
  },
  {
   "cell_type": "code",
   "execution_count": 30,
   "metadata": {},
   "outputs": [
    {
     "data": {
      "text/plain": [
       "[{'W', 'Z2', 'Z3'}]"
      ]
     },
     "execution_count": 30,
     "metadata": {},
     "output_type": "execute_result"
    }
   ],
   "source": [
    "separating_sets_for_NA_nodes = [oy.d_separator_search(fig2_9, 'Y', node)\n",
    "                                for node in oy.NA(fig2_9, 'Y')]\n",
    "\n",
    "intersection = {frozenset(s) for s in separating_sets_for_NA_nodes[0]}\n",
    "for node in separating_sets_for_NA_nodes[1:]:\n",
    "    intersection.intersection_update({frozenset(s) for s in node})\n",
    "\n",
    "[set(s) for s in intersection]"
   ]
  },
  {
   "cell_type": "markdown",
   "metadata": {},
   "source": [
    "#### f) Repeat Question (e) assuming that we wish to estimate the value of Z2"
   ]
  },
  {
   "cell_type": "code",
   "execution_count": 31,
   "metadata": {},
   "outputs": [
    {
     "data": {
      "text/plain": [
       "{'W', 'Y', 'Z1', 'Z3'}"
      ]
     },
     "execution_count": 31,
     "metadata": {},
     "output_type": "execute_result"
    }
   ],
   "source": [
    "oy.MB(fig2_9, 'Z2')"
   ]
  },
  {
   "cell_type": "markdown",
   "metadata": {},
   "source": [
    "#### g) Suppose we wish to predict the value of Z2 from measurements of Z3. Would the quality of our prediction improve if we add measurement of W? Explain."
   ]
  },
  {
   "cell_type": "markdown",
   "metadata": {},
   "source": [
    "In other words...is W d-separated from Z2, given Z3?"
   ]
  },
  {
   "cell_type": "code",
   "execution_count": 32,
   "metadata": {},
   "outputs": [
    {
     "data": {
      "text/plain": [
       "False"
      ]
     },
     "execution_count": 32,
     "metadata": {},
     "output_type": "execute_result"
    }
   ],
   "source": [
    "oy.d_separated(fig2_9, 'Z2', 'W', 'Z3')"
   ]
  },
  {
   "cell_type": "markdown",
   "metadata": {},
   "source": [
    "<a id=\"variableSelection\"></a>\n",
    "Answer: \"Probably, but...\".  W is not d-separated from Z2 given Z3.  If it *were* d-separated (i.e. conditionally independent, given Z3), then adding it to the model would not add additional information and the answer would be a definite \"No.\"  Since in fact W is not d-separated from Z2 given Z3 (i.e. it remains correlated), including it will improve (in-sample) prediction, at least as measured by $R^{2}$ ... but the improvement will not necessarily be worth the cost of making the model less parsimonious.\n",
    "\n",
    "To summarize the value of graphical analysis for ***variable selection***: a model implies that some variables (those that are d-separated, a.k.a independent of the variable to be predicted, conditional on the other variables being measured), are certainly not worth including when making predictions.  Variables that grahical analysis shows are d-connected may or may not have value."
   ]
  },
  {
   "cell_type": "markdown",
   "metadata": {},
   "source": [
    "### Study Question 2.5.1 <a id=\"sq251\"></a>\n",
    "\n",
    "#### a) Which of the arrows in Figure 2.9 can be reversed without being detected by any statistical test?\n",
    "#### b) List all the graphs that are observationally equivalent to the one in Figure 2.9.\n",
    "#### c) List the arrows in Figure 2.9 whose directionality can be determined from nonexperimental data."
   ]
  },
  {
   "cell_type": "code",
   "execution_count": 33,
   "metadata": {},
   "outputs": [
    {
     "data": {
      "image/png": "[encoded data removed]",
      "text/plain": [
       "<Figure size 432x288 with 1 Axes>"
      ]
     },
     "metadata": {},
     "output_type": "display_data"
    }
   ],
   "source": [
    "oy.draw(fig2_9) # Still using fig2_9 as above"
   ]
  },
  {
   "cell_type": "markdown",
   "metadata": {},
   "source": [
    "The \"statistical tests\" mentioned above check for independencies between variables. So in other words, the question asks: How many graphs can be formed from reversing the direction of any edge in Figure 2.9, while stil implying the same set of independencies?  \n",
    "\n",
    "<a id=\"cpdag\"></a>\n",
    "The set of graphs with the same skeleton and implied independencies is called an ***equivalence class.*** Oyster provides a function for the `equivalence_class_size` of a given causal diagram."
   ]
  },
  {
   "cell_type": "code",
   "execution_count": 34,
   "metadata": {},
   "outputs": [
    {
     "data": {
      "text/plain": [
       "1"
      ]
     },
     "execution_count": 34,
     "metadata": {},
     "output_type": "execute_result"
    }
   ],
   "source": [
    "oy.equivalence_class_size(fig2_9)"
   ]
  },
  {
   "cell_type": "markdown",
   "metadata": {},
   "source": [
    "An equivalence class size of 1 means that, in Figure 2.9, *no arrows* can be reversed without the resulting graph having a different set of implied independencies (part a).  Similarly, there are no other observationally equivalent graphs (part b), and all arrows can be determined from nonexperimental data (part c).  It's a trick question!"
   ]
  },
  {
   "cell_type": "markdown",
   "metadata": {},
   "source": [
    "The ***Complete Partial DAG (CPDAG)*** is a related concept to equivalence class.  The CPDAG is a partially-directed graph, where edges that are *compelled* to have a certain direction based on implied independencies are represented as normal, but edges that can be reversed are shown as undirected (or, equivalently, with arrows at both ends).  CPDAGs summarize an equivalence class in a single graph; pick an arbirary direction for each undirected edge and the reslting graph is a member of the same equivalence class.  The size of an equivalence class is thus $2^{n}$, where n is the number of reversible edges in the CPDAG.\n",
    "\n",
    "CPDAGs and equivalence classes have two important applications:\n",
    "    \n",
    "1. In the field of ***causal search***, a dataset is interrogated for any independence relationships between variables, and the resulting independencies can be used to generate a graph that explains the data.  Think of this as going in reverse from how we've considered graphs so far: where so far we have we hyppothesized a causal diagram that can verified against the data, causal search takes the data and generates a graph that fits.  The catch is that these causal search methods can only go so far, because there might be several graphs that explain the data, with arrows in different directions so long as they don't violate an independence in the data.\n",
    "\n",
    "1. CPDAG's summarize the valid ***alternative hypotheses*** that could correctly explain a dataset, in addition to a given valid causal model.  In many fields it pays to be aware of the fact that different explainations could exist that are just as consistent with the collected data; articulating these alternative competing hypotheses is a starting point for devising followon experiments that can focus on deciding between alternative models."
   ]
  },
  {
   "cell_type": "markdown",
   "metadata": {},
   "source": [
    "Oyster's `dag_to_cpdag` function returns a CPDAG from a given DAG.  As expected, the CPDAG for Figure 2.9 is the same as Figure 2.9; all of the edges are compelled to one direction by Figure 2.9's implied independencies."
   ]
  },
  {
   "cell_type": "code",
   "execution_count": 35,
   "metadata": {},
   "outputs": [
    {
     "data": {
      "image/png": "[encoded data removed]",
      "text/plain": [
       "<Figure size 432x288 with 1 Axes>"
      ]
     },
     "metadata": {},
     "output_type": "display_data"
    }
   ],
   "source": [
    "oy.draw(oy.dag_to_cpdag(fig2_9), pos=oy.ex.pos[fig2_9])"
   ]
  },
  {
   "cell_type": "markdown",
   "metadata": {},
   "source": [
    "For a more illuminating example, let's look at Figure 1.8. Oyster also provides a visualization function `draw_cpdag` tht draws the graph and its CPDAG side-by-side."
   ]
  },
  {
   "cell_type": "code",
   "execution_count": 36,
   "metadata": {},
   "outputs": [
    {
     "name": "stdout",
     "output_type": "stream",
     "text": [
      "equivalent dags: 128\n"
     ]
    },
    {
     "data": {
      "image/png": "[encoded data removed]",
      "text/plain": [
       "<Figure size 432x288 with 2 Axes>"
      ]
     },
     "metadata": {},
     "output_type": "display_data"
    }
   ],
   "source": [
    "oy.draw_cpdag(fig1_8, pos=oy.ex.pos[oy.ex.primer['fig1_8']])"
   ]
  },
  {
   "cell_type": "markdown",
   "metadata": {},
   "source": [
    "Every one of the directed edges in Figure 1_8 can be reversed, while still implying the same independencies!"
   ]
  },
  {
   "cell_type": "markdown",
   "metadata": {},
   "source": [
    "#### d) Write down a regression equation for Y such that, if a certain coefficient in that equation is nonzero, the model of Figure 2.9 is wrong."
   ]
  },
  {
   "cell_type": "markdown",
   "metadata": {},
   "source": [
    "Again, we check the implied independencies:"
   ]
  },
  {
   "cell_type": "code",
   "execution_count": 37,
   "metadata": {},
   "outputs": [
    {
     "name": "stdout",
     "output_type": "stream",
     "text": [
      "Implied independencies:\n",
      "X ⫫ Y | [{'Z2', 'W', 'Z3'}, {'W', 'Z3', 'Z1'}]\n",
      "Z2 ⫫ X | [{'Z3', 'Z1'}]\n",
      "W ⫫ Z1 | [{'X'}]\n",
      "W ⫫ Z3 | [{'X'}]\n",
      "Z2 ⫫ W | [{'X'}, {'Z3', 'Z1'}]\n",
      "Y ⫫ Z1 | [{'Z2', 'W', 'Z3'}, {'Z2', 'Z3', 'X'}]\n",
      "Z2 ⫫ Z1 | [set()]\n"
     ]
    }
   ],
   "source": [
    "oy.implied_independencies(fig2_9)"
   ]
  },
  {
   "cell_type": "markdown",
   "metadata": {},
   "source": [
    "We see that Y should be independent of X given W, Z1, and Z3.  Thus, in a regression equation Y ~ aX + bW + cZ1 + dZ3, if a is nonzero, (implying X and Y are *not* independent), the model would be wrong."
   ]
  },
  {
   "cell_type": "markdown",
   "metadata": {},
   "source": [
    "#### e) Repeat part (d) for variable Z3."
   ]
  },
  {
   "cell_type": "markdown",
   "metadata": {},
   "source": [
    "As above, `oy.implied_independencies` shows us that W and Z3 are independent given X.  So a regression Z3 ~ fW + gX, f should be zero."
   ]
  },
  {
   "cell_type": "markdown",
   "metadata": {},
   "source": [
    "#### f) Repeat part (e), assuming X is not measured."
   ]
  },
  {
   "cell_type": "markdown",
   "metadata": {},
   "source": [
    "If X is immeasurable, we aren't able to use it in a regression equaition.  Since the only independence relationship for Z3 above must include X, we conclude that we write a rgression equation that to test the model without X. Another trick question!"
   ]
  },
  {
   "cell_type": "markdown",
   "metadata": {},
   "source": [
    "#### g) How many regression equations of the type described in (d) and (e) are needed to ensure that the model is fully tested, namely, that if it passes all these tests it cannot be refuted by additional tests of these kind."
   ]
  },
  {
   "cell_type": "markdown",
   "metadata": {},
   "source": [
    "This set of equations is called a ***basis set***.  In other words, were looking for a set of equations that show a variable is independent of its non-decendents, given its parents.  This set mirrors the *Rule of Product Decomposition*, which says that for an acyclic graph, \n",
    "\n",
    "\\begin{equation*}\n",
    "P(x_{1}, x_{2}, ..., x_{n}) = \\prod_{i}P(x_{i}|pa_{i})\n",
    "\\end{equation*}\n",
    "\n",
    "Oyster provides a function to print these independencies under `basis_set`"
   ]
  },
  {
   "cell_type": "code",
   "execution_count": 38,
   "metadata": {},
   "outputs": [
    {
     "name": "stdout",
     "output_type": "stream",
     "text": [
      "X ⫫ {'Z2'} | {'Z3', 'Z1'}\n",
      "W ⫫ {'Z2', 'Z3', 'Z1'} | {'X'}\n",
      "Y ⫫ {'X', 'Z1'} | {'Z2', 'W', 'Z3'}\n",
      "Z1 ⫫ {'Z2'} | set()\n",
      "Z2 ⫫ {'Z1'} | set()\n"
     ]
    }
   ],
   "source": [
    "oy.basis_set(fig2_9)"
   ]
  },
  {
   "cell_type": "markdown",
   "metadata": {},
   "source": [
    "The independence relations for Z1 and Z2 are the same, so we really only need 4 equations.  "
   ]
  },
  {
   "cell_type": "markdown",
   "metadata": {},
   "source": [
    "## The Effects of Interventions <a id=\"interventions\"></a>"
   ]
  },
  {
   "cell_type": "markdown",
   "metadata": {},
   "source": [
    "### Study Question 3.3.1 <a id=\"sq331\"></a>\n",
    "Consider the graph of Figure 3.8:"
   ]
  },
  {
   "cell_type": "code",
   "execution_count": 39,
   "metadata": {},
   "outputs": [
    {
     "data": {
      "image/png": "[encoded data removed]",
      "text/plain": [
       "<Figure size 432x288 with 1 Axes>"
      ]
     },
     "metadata": {},
     "output_type": "display_data"
    }
   ],
   "source": [
    "fig3_8 = oy.ex.primer['fig3_8']\n",
    "oy.draw(fig3_8)"
   ]
  },
  {
   "cell_type": "markdown",
   "metadata": {},
   "source": [
    "### a) List all of the sets of variables that satisfy the backdoor criterion to determine the causal effect of X on Y."
   ]
  },
  {
   "cell_type": "markdown",
   "metadata": {},
   "source": [
    "To satisfy the backdoor criterion, a set of variables must d-seperate the \"backdoor paths\", i.e. the paths from X to Y that start with an edge into X, not out of X. Oyster has a function to check that a variable or set of variables satisfies the backdoor criterion, `meets_backdoor_criterion`, but it will also do an exhaustive search for all backdoor separators with `backdoor_criterion_search`."
   ]
  },
  {
   "cell_type": "code",
   "execution_count": 40,
   "metadata": {},
   "outputs": [
    {
     "data": {
      "text/plain": [
       "[{'C', 'Z'},\n",
       " {'D', 'Z'},\n",
       " {'B', 'Z'},\n",
       " {'A', 'Z'},\n",
       " {'C', 'D', 'Z'},\n",
       " {'B', 'C', 'Z'},\n",
       " {'A', 'C', 'Z'},\n",
       " {'B', 'D', 'Z'},\n",
       " {'A', 'D', 'Z'},\n",
       " {'A', 'B', 'Z'},\n",
       " {'B', 'C', 'D', 'Z'},\n",
       " {'A', 'C', 'D', 'Z'},\n",
       " {'A', 'B', 'C', 'Z'},\n",
       " {'A', 'B', 'D', 'Z'},\n",
       " {'A', 'B', 'C', 'D', 'Z'}]"
      ]
     },
     "execution_count": 40,
     "metadata": {},
     "output_type": "execute_result"
    }
   ],
   "source": [
    "oy.backdoor_criterion_search(fig3_8, 'X', 'Y')"
   ]
  },
  {
   "cell_type": "markdown",
   "metadata": {},
   "source": [
    "### b) List all of the *minimal* sets of variables that satisfy the backdoor criterion to determine the causal effect of X on Y."
   ]
  },
  {
   "cell_type": "code",
   "execution_count": 41,
   "metadata": {},
   "outputs": [
    {
     "data": {
      "text/plain": [
       "[{'C', 'Z'}, {'D', 'Z'}, {'B', 'Z'}, {'A', 'Z'}]"
      ]
     },
     "execution_count": 41,
     "metadata": {},
     "output_type": "execute_result"
    }
   ],
   "source": [
    "oy.minimal_sets(oy.backdoor_criterion_search(fig3_8, 'X', 'Y'))"
   ]
  },
  {
   "cell_type": "markdown",
   "metadata": {},
   "source": [
    "### c) List all minimal sets of variables that need be measured to identify the effect of D on Y..."
   ]
  },
  {
   "cell_type": "markdown",
   "metadata": {},
   "source": [
    "As with d-separators, Oyster can accept arbitrary sets of cause and effect variables."
   ]
  },
  {
   "cell_type": "code",
   "execution_count": 42,
   "metadata": {},
   "outputs": [
    {
     "data": {
      "text/plain": [
       "[{'Z'}, {'C', 'X'}]"
      ]
     },
     "execution_count": 42,
     "metadata": {},
     "output_type": "execute_result"
    }
   ],
   "source": [
    "oy.minimal_sets(oy.backdoor_criterion_search(fig3_8, {'W', 'D'}, 'Y'))"
   ]
  },
  {
   "cell_type": "markdown",
   "metadata": {},
   "source": [
    "## Study Question 3.4.1 (Lord's Paradox) <a id=\"sq341\"></a>"
   ]
  },
  {
   "cell_type": "markdown",
   "metadata": {},
   "source": [
    "## Study question 3.5.1 <a id=\"sq351\"></a>\n",
    "### Continuing with Figure 3.8..."
   ]
  },
  {
   "cell_type": "markdown",
   "metadata": {},
   "source": [
    "### a) Find an expression for the c-specific effect of X on Y."
   ]
  },
  {
   "cell_type": "markdown",
   "metadata": {},
   "source": [
    "That is, the adjustment set for the effect of X on Y that includes C.  These specific effects as so called because we compute them while conditioning on the specified variable -- the population that we use to compute the effect of X on Y will necessarily include the specified variable.  \n",
    "\n",
    "This concept brings up another way to test models: the effect of X on Y should ideally be the same no matter our choice of Z adjustment sets (provided they satisfy the backdoor criterion).  When the specific effects differ significantly, it might be a clue that there is some amount of sampling or selection bias in one or both of the specific populations; if the difference is significant the model is probably invalid.\n",
    "\n",
    "Calculating the specific effect can be done with a simple filter or list comprehension conditional:"
   ]
  },
  {
   "cell_type": "code",
   "execution_count": 43,
   "metadata": {},
   "outputs": [
    {
     "data": {
      "text/plain": [
       "[{'C', 'Z'},\n",
       " {'C', 'D', 'Z'},\n",
       " {'B', 'C', 'Z'},\n",
       " {'A', 'C', 'Z'},\n",
       " {'B', 'C', 'D', 'Z'},\n",
       " {'A', 'C', 'D', 'Z'},\n",
       " {'A', 'B', 'C', 'Z'},\n",
       " {'A', 'B', 'C', 'D', 'Z'}]"
      ]
     },
     "execution_count": 43,
     "metadata": {},
     "output_type": "execute_result"
    }
   ],
   "source": [
    "[s for s in oy.backdoor_criterion_search(fig3_8, 'X', 'Y') if 'C' in s]"
   ]
  },
  {
   "cell_type": "markdown",
   "metadata": {},
   "source": [
    "Oyster also provides a `specific_adjustment_sets` function that does the same thing.  Let's also just pick out the minimal sets:"
   ]
  },
  {
   "cell_type": "code",
   "execution_count": 44,
   "metadata": {},
   "outputs": [
    {
     "data": {
      "text/plain": [
       "[{'C', 'Z'}]"
      ]
     },
     "execution_count": 44,
     "metadata": {},
     "output_type": "execute_result"
    }
   ],
   "source": [
    "oy.minimal_sets(oy.specific_adjustment_sets(fig3_8, 'X', 'Y', 'C'))"
   ]
  },
  {
   "cell_type": "markdown",
   "metadata": {},
   "source": [
    "Oyster also provides a function `backdoor_adjustment_formula` that generaties a Latex expression. It will also check behind the scenes to confirm the specified adjustment set does indeed meet the backdoor criterion.  You can view the expression in a Jupyter notebook by importing `Math` from `IPython.display'"
   ]
  },
  {
   "cell_type": "code",
   "execution_count": 45,
   "metadata": {},
   "outputs": [
    {
     "data": {
      "text/latex": [
       "$\\displaystyle P_x(y)=\\sum_{c,z}P(y | x,{c,z})P({c,z})$"
      ],
      "text/plain": [
       "<IPython.core.display.Math object>"
      ]
     },
     "execution_count": 45,
     "metadata": {},
     "output_type": "execute_result"
    }
   ],
   "source": [
    "from IPython.display import Math\n",
    "Math(oy.backdoor_adjustment_formula(fig3_8, 'X', 'Y', {'C', 'Z'}))"
   ]
  },
  {
   "cell_type": "markdown",
   "metadata": {},
   "source": [
    "### b) Identify a set of four variables that need to be measured in order to estimate the z-specific effect of X on Y, and find an expression for the size of that effect."
   ]
  },
  {
   "cell_type": "markdown",
   "metadata": {},
   "source": [
    "Let's filter the `specfic_adjustment_sets` for 'Z' to just those containing four elements:"
   ]
  },
  {
   "cell_type": "code",
   "execution_count": 52,
   "metadata": {},
   "outputs": [
    {
     "name": "stdout",
     "output_type": "stream",
     "text": [
      "{'C', 'D', 'B', 'Z'}\n",
      "{'C', 'D', 'Z', 'A'}\n",
      "{'C', 'A', 'B', 'Z'}\n",
      "{'D', 'A', 'B', 'Z'}\n"
     ]
    }
   ],
   "source": [
    "sets = [s for s in oy.specific_adjustment_sets(fig3_8, 'X', 'Y', 'Z') if len(s) == 4]\n",
    "for s in sets: print(s)"
   ]
  },
  {
   "cell_type": "markdown",
   "metadata": {},
   "source": [
    "And again using `backdoor_adjustment_formula` to give an expression for one of those sets:"
   ]
  },
  {
   "cell_type": "code",
   "execution_count": 53,
   "metadata": {},
   "outputs": [
    {
     "data": {
      "text/latex": [
       "$\\displaystyle P_x(y)=\\sum_{b,c,d,z}P(y | x,{b,c,d,z})P({b,c,d,z})$"
      ],
      "text/plain": [
       "<IPython.core.display.Math object>"
      ]
     },
     "execution_count": 53,
     "metadata": {},
     "output_type": "execute_result"
    }
   ],
   "source": [
    "Math(oy.backdoor_adjustment_formula(fig3_8, 'X', 'Y', sets[0]))"
   ]
  },
  {
   "cell_type": "code",
   "execution_count": null,
   "metadata": {},
   "outputs": [],
   "source": []
  }
 ],
 "metadata": {
  "kernelspec": {
   "display_name": "Python 3",
   "language": "python",
   "name": "python3"
  },
  "language_info": {
   "codemirror_mode": {
    "name": "ipython",
    "version": 3
   },
   "file_extension": ".py",
   "mimetype": "text/x-python",
   "name": "python",
   "nbconvert_exporter": "python",
   "pygments_lexer": "ipython3",
   "version": "3.7.7"
  }
 },
 "nbformat": 4,
 "nbformat_minor": 4
}
