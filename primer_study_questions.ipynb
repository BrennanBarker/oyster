{
 "cells": [
  {
   "cell_type": "code",
   "execution_count": 1,
   "metadata": {},
   "outputs": [],
   "source": [
    "import networkx as nx\n",
    "import oyster as oy\n",
    "from IPython.display import Image"
   ]
  },
  {
   "cell_type": "markdown",
   "metadata": {},
   "source": [
    "# Introduction\n",
    "Learn Oyster in this walkthrough of selected examples from Judea Pearl's *Causal Inference in Statistics: A Primer*.  Credit to Johannes Textor, Andrew Forney, and Judea Pearl for [their approach](http://dagitty.net/primer/) to teaching the R package Daggity.  This walkthrough focuses on study questions that are graphical in nature, so it skips several questions from the primer as well as some questions addressed in Textor's walkthrough, while adding a couple others."
   ]
  },
  {
   "cell_type": "markdown",
   "metadata": {},
   "source": [
    "### Study Question 1.4.1\n",
    "#### Consider the graph shown in Figure 1.8..."
   ]
  },
  {
   "cell_type": "markdown",
   "metadata": {},
   "source": [
    "In Oyster, causal diagrams (Pearl often calls them simply \"Graphs\" or \"Directed Acyclic Graphs (DAGs)\"; so will we) are instances of the `CausalDiagram` class. The easiest way to initialize a `CausalDiagram` is by providing a list of two-tuples corresponding to the edges in the graph.  Order is important, as the edges are directed from the first node in the tuple to the second."
   ]
  },
  {
   "cell_type": "code",
   "execution_count": 2,
   "metadata": {},
   "outputs": [],
   "source": [
    "fig1_8 = oy.CausalDiagram(([('X', 'W'), ('X', 'Y'), \n",
    "                            ('W', 'Y'), ('W', 'Z'), \n",
    "                            ('Y', 'T'), ('Y', 'Z'), \n",
    "                            ('Z', 'T')]))"
   ]
  },
  {
   "cell_type": "markdown",
   "metadata": {},
   "source": [
    "CausalDiagram subclasses the DiGraph class in the excellent [NetworkX](https://networkx.github.io) package, so many methods and attributes from `networkx.DiGraph` are available in `oyster.CausalDiagram`. In fact, Oyster relies on NetworkX for most of its backend, so many thanks to the NetworkX team."
   ]
  },
  {
   "cell_type": "code",
   "execution_count": 29,
   "metadata": {},
   "outputs": [
    {
     "data": {
      "text/plain": [
       "NodeView(('X', 'W', 'Y', 'Z', 'T'))"
      ]
     },
     "execution_count": 29,
     "metadata": {},
     "output_type": "execute_result"
    }
   ],
   "source": [
    "fig1_8.nodes # the set of nodes in fig1_8"
   ]
  },
  {
   "cell_type": "markdown",
   "metadata": {},
   "source": [
    "Use Oyster's `draw` function to draw graphs.  You can specify a dictionary of absolute positions to for where to draw the graph's nodes using the `pos` keyword argument."
   ]
  },
  {
   "cell_type": "code",
   "execution_count": 3,
   "metadata": {},
   "outputs": [
    {
     "data": {
      "image/png": "[encoded data removed]",
      "text/plain": [
       "<Figure size 432x288 with 1 Axes>"
      ]
     },
     "metadata": {},
     "output_type": "display_data"
    }
   ],
   "source": [
    "oy.draw(fig1_8, \n",
    "        pos={'X': (0,0), 'W': (1,1), 'Y': (1,0), 'Z': (2,0), 'T':(1.5, -.5)},\n",
    "        title='Figure 1.8')"
   ]
  },
  {
   "cell_type": "markdown",
   "metadata": {},
   "source": [
    "Oyster provides many pre-specified example graphs in the `oyster.example` module.  Many graphs from figures in the Primer are available as `oy.ex.primer['fig<Chapter#>_<Fig#>']`.  \n",
    "\n",
    "If done this way, `oy.draw` will automatically resolve positions for these graphs as drawn in the book."
   ]
  },
  {
   "cell_type": "code",
   "execution_count": 4,
   "metadata": {},
   "outputs": [
    {
     "data": {
      "image/png": "[encoded data removed]",
      "text/plain": [
       "<Figure size 432x288 with 1 Axes>"
      ]
     },
     "metadata": {},
     "output_type": "display_data"
    }
   ],
   "source": [
    "fig1_8_another_way = oy.ex.primer['fig1_8']\n",
    "oy.draw(fig1_8_another_way, title='Figure 1.8')"
   ]
  },
  {
   "cell_type": "markdown",
   "metadata": {},
   "source": [
    "Oyster provides several utility functions for examining ancestral elements of a graph:"
   ]
  },
  {
   "cell_type": "markdown",
   "metadata": {},
   "source": [
    "#### a) Name all of the parents of Z"
   ]
  },
  {
   "cell_type": "code",
   "execution_count": 5,
   "metadata": {},
   "outputs": [
    {
     "data": {
      "text/plain": [
       "{'W', 'Y'}"
      ]
     },
     "execution_count": 5,
     "metadata": {},
     "output_type": "execute_result"
    }
   ],
   "source": [
    "oy.Pa(fig1_8, 'Z')"
   ]
  },
  {
   "cell_type": "markdown",
   "metadata": {},
   "source": [
    "#### b) Name all of the ancestors of Z"
   ]
  },
  {
   "cell_type": "code",
   "execution_count": 6,
   "metadata": {},
   "outputs": [
    {
     "data": {
      "text/plain": [
       "{'W', 'X', 'Y'}"
      ]
     },
     "execution_count": 6,
     "metadata": {},
     "output_type": "execute_result"
    }
   ],
   "source": [
    "oy.An(fig1_8, 'Z')"
   ]
  },
  {
   "cell_type": "markdown",
   "metadata": {},
   "source": [
    "*There is some disagreement in the literature about whether the set of a node's ancestors includes the node itself.  Oyster does not include it, the R package Daggity does."
   ]
  },
  {
   "cell_type": "markdown",
   "metadata": {},
   "source": [
    "#### c) Name all of the children of W"
   ]
  },
  {
   "cell_type": "code",
   "execution_count": 7,
   "metadata": {},
   "outputs": [
    {
     "data": {
      "text/plain": [
       "{'Y', 'Z'}"
      ]
     },
     "execution_count": 7,
     "metadata": {},
     "output_type": "execute_result"
    }
   ],
   "source": [
    "oy.Ch(fig1_8, 'W')"
   ]
  },
  {
   "cell_type": "markdown",
   "metadata": {},
   "source": [
    "#### d) Name all of the descendants of W"
   ]
  },
  {
   "cell_type": "code",
   "execution_count": 8,
   "metadata": {},
   "outputs": [
    {
     "data": {
      "text/plain": [
       "{'T', 'Y', 'Z'}"
      ]
     },
     "execution_count": 8,
     "metadata": {},
     "output_type": "execute_result"
    }
   ],
   "source": [
    "oy.De(fig1_8, 'W')"
   ]
  },
  {
   "cell_type": "markdown",
   "metadata": {},
   "source": [
    "*There is some disagreement in the literature about whether to include the node itself in its set of descendants.  Oyster does not, the R package Daggity does."
   ]
  },
  {
   "cell_type": "markdown",
   "metadata": {},
   "source": [
    "#### e) Draw all (simple) paths between X and T"
   ]
  },
  {
   "cell_type": "markdown",
   "metadata": {},
   "source": [
    "In Pearl's causal lexicon, a simple path is any adjacent set of edges between two nodes.\n",
    "\n",
    "Oyster's `paths` function returns the paths between two nodes in a graph as a collection of subgraphs, each representing a path.  The `print_path` function prints these linear subgraphs as text."
   ]
  },
  {
   "cell_type": "code",
   "execution_count": 9,
   "metadata": {},
   "outputs": [
    {
     "name": "stdout",
     "output_type": "stream",
     "text": [
      "X -> W -> Y -> T\n",
      "X -> W -> Y -> Z -> T\n",
      "X -> W -> Z <- Y -> T\n",
      "X -> W -> Z -> T\n",
      "X -> Y <- W -> Z -> T\n",
      "X -> Y -> T\n",
      "X -> Y -> Z -> T\n"
     ]
    }
   ],
   "source": [
    "for path in oy.paths(fig1_8, 'X', 'T'): \n",
    "    oy.print_path(path, start='X') "
   ]
  },
  {
   "cell_type": "markdown",
   "metadata": {},
   "source": [
    "Or simply use the `print_paths` function:"
   ]
  },
  {
   "cell_type": "code",
   "execution_count": 10,
   "metadata": {},
   "outputs": [
    {
     "name": "stdout",
     "output_type": "stream",
     "text": [
      "X -> W -> Y -> T\n",
      "X -> W -> Y -> Z -> T\n",
      "X -> W -> Z <- Y -> T\n",
      "X -> W -> Z -> T\n",
      "X -> Y <- W -> Z -> T\n",
      "X -> Y -> T\n",
      "X -> Y -> Z -> T\n"
     ]
    }
   ],
   "source": [
    "oy.print_paths(fig1_8, 'X', 'T')"
   ]
  },
  {
   "cell_type": "markdown",
   "metadata": {},
   "source": [
    "#### f) Draw all directed paths between X and T"
   ]
  },
  {
   "cell_type": "markdown",
   "metadata": {},
   "source": [
    "Set keyword argument `directed=True` to show only paths that take direction into account."
   ]
  },
  {
   "cell_type": "code",
   "execution_count": 11,
   "metadata": {},
   "outputs": [
    {
     "name": "stdout",
     "output_type": "stream",
     "text": [
      "X -> W -> Y -> T\n",
      "X -> W -> Y -> Z -> T\n",
      "X -> W -> Z -> T\n",
      "X -> Y -> T\n",
      "X -> Y -> Z -> T\n"
     ]
    }
   ],
   "source": [
    "oy.print_paths(fig1_8, 'X', 'T', directed=True)"
   ]
  },
  {
   "cell_type": "markdown",
   "metadata": {},
   "source": [
    "### Study Question 1.5.1\n",
    "Suppose we have the following structural causal model (SCM).  Assume all exogenous variables $U_{i}$ are independent and that the expected value of each is 0.\n",
    "\n",
    "\\begin{equation*}\n",
    "V = \\{X, Y, Z\\}, \\hspace{20pt}\n",
    "U = \\{U_X, U_Y, U_Z\\}, \\hspace{20pt}\n",
    "F = \\{f_X,f_Y,f_Z\\} \\\\\n",
    "\\end{equation*}\n",
    "\\begin{equation*}\n",
    "f_X: X = U_X \\\\\n",
    "f_Y: Y = \\frac{X}{3} + U_Y \\\\\n",
    "f_Y: Z = \\frac{Y}{16} + U_Z \\\\\n",
    "\\end{equation*}"
   ]
  },
  {
   "cell_type": "markdown",
   "metadata": {},
   "source": [
    "#### a) Draw the graph that complies with the model"
   ]
  },
  {
   "cell_type": "markdown",
   "metadata": {},
   "source": [
    "Pearl's definition of a causal graph states that for ever variable with a structural equation, there should be an edge directed to that variable from all variables in its equation."
   ]
  },
  {
   "cell_type": "code",
   "execution_count": 12,
   "metadata": {},
   "outputs": [
    {
     "data": {
      "image/png": "[encoded data removed]",
      "text/plain": [
       "<Figure size 432x288 with 1 Axes>"
      ]
     },
     "metadata": {},
     "output_type": "display_data"
    }
   ],
   "source": [
    "sq151 = oy.CausalDiagram([('Ux', 'X'), ('Uy', 'Y'), ('Uz', 'Z'), ('X', 'Y'), ('Y', 'Z')])\n",
    "sq151pos = {'X': (0,0),'Y': (1,0),'Z': (2,0),'Ux': (0,-1),'Uy': (1,-1),'Uz': (2,-1),}\n",
    "oy.draw(sq151, pos=sq151pos)"
   ]
  },
  {
   "cell_type": "markdown",
   "metadata": {},
   "source": [
    "The rest of Study Question 1.5.1 is analytical in nature, we skip it here but many statistical python packages (such as `statsmodels`) can be used to answer or simulate the analytical questions in the Primer."
   ]
  },
  {
   "cell_type": "markdown",
   "metadata": {},
   "source": [
    "### Study Question 2.3.1"
   ]
  },
  {
   "cell_type": "markdown",
   "metadata": {},
   "source": [
    "#### a) List all pairs of variables in Figure 2.5 that are independent, conditional on the set Z = {R, V}"
   ]
  },
  {
   "cell_type": "markdown",
   "metadata": {},
   "source": [
    "Since this graph is linear, I can simply print it using `print_path`. I could also have drawn it using `draw`."
   ]
  },
  {
   "cell_type": "code",
   "execution_count": 13,
   "metadata": {},
   "outputs": [
    {
     "name": "stdout",
     "output_type": "stream",
     "text": [
      "Figure 2.5\n",
      "\n",
      "X -> R -> S -> T <- U <- V -> Y\n"
     ]
    }
   ],
   "source": [
    "fig2_5 = oy.CausalDiagram([('X', 'R'), ('R', 'S'), ('S', 'T'), \n",
    "                           ('U', 'T'), ('V', 'U'), ('V', 'Y')])\n",
    "print('Figure 2.5\\n')\n",
    "oy.print_path(fig2_5, start='X')"
   ]
  },
  {
   "cell_type": "markdown",
   "metadata": {},
   "source": [
    "Two variables are independent if the path between them is blocked by the conditioned variables.  If not, the variables are possibly (actually very likely, with a few specific  exceptions) dependent. Oyster's `d_separated` function generalizes the idea of blocking to arbitrary sets of potentially independant variables and conditioners."
   ]
  },
  {
   "cell_type": "code",
   "execution_count": 14,
   "metadata": {},
   "outputs": [
    {
     "name": "stdout",
     "output_type": "stream",
     "text": [
      "Given {R,V}...\n",
      "X and S are independent.\n",
      "X and Y are independent.\n",
      "X and U are independent.\n",
      "X and T are independent.\n",
      "S and Y are independent.\n",
      "S and U are independent.\n",
      "S and T are possibly dependent.\n",
      "Y and U are independent.\n",
      "Y and T are independent.\n",
      "U and T are possibly dependent.\n"
     ]
    }
   ],
   "source": [
    "Z = {'R', 'V'}\n",
    "print('Given {R,V}...')\n",
    "for a,b in oy.combinations(fig2_5.nodes - Z, 2): # for all pairs of nodes not in Z...\n",
    "    ind = oy.d_separated(fig2_5, a, b, Z)\n",
    "    if ind: print(f'{a} and {b} are independent.')\n",
    "    else: print(f'{a} and {b} are possibly dependent.')"
   ]
  },
  {
   "cell_type": "markdown",
   "metadata": {},
   "source": [
    "Pearl defines path d-seperation in terms of graphic structures called chains (-> V ->), forks (<- V ->) and colliders (-> V <-).  Another way to understand d-seperation is the following graphical algorithm:\n",
    "1. Draw an \"ancestral graph,\" i.e. the subgraph containing X, Y, Z, and their ancestors\n",
    "1. \"Moralize\" the first ancestral graph by adding edges between all parents of a node\n",
    "1. Draw a subgraph of the moral graph, omitting nodes in Z\n",
    "1. If X and Y are now disconnected, Z d-separates X and Y\n",
    "\n",
    "Oyster provides a visualization for this algorithm with `d_sep_graphs`. Credit to [this worksheet](http://web.mit.edu/jmn/www/6.034/d-separation.pdf) from MIT."
   ]
  },
  {
   "cell_type": "code",
   "execution_count": 15,
   "metadata": {},
   "outputs": [
    {
     "data": {
      "image/png": "[encoded data removed]",
      "text/plain": [
       "<Figure size 432x288 with 3 Axes>"
      ]
     },
     "metadata": {},
     "output_type": "display_data"
    }
   ],
   "source": [
    "oy.d_sep_graphs(fig2_5, 'S', 'T', {'R', 'V'})"
   ]
  },
  {
   "cell_type": "markdown",
   "metadata": {},
   "source": [
    "#### b) For each pair of non-adjacent variables in Figure 2.5, give a set of variables that, when conditioned on, renders that pair independent."
   ]
  },
  {
   "cell_type": "markdown",
   "metadata": {},
   "source": [
    "Oyster provides a utility function `NA_pairs` for selecting the nonadjacent pairs in a graph.\n",
    "\n",
    "Oyster's `d_separator_search` function conducts an exhaustive search for d_seperators over all possible combinations of the other nodes in a graph.  For simplicity, we select just one below."
   ]
  },
  {
   "cell_type": "code",
   "execution_count": 16,
   "metadata": {},
   "outputs": [
    {
     "name": "stdout",
     "output_type": "stream",
     "text": [
      "S,X: {'R'}\n",
      "X,T: {'S'}\n",
      "X,U: set()\n",
      "V,X: set()\n",
      "X,Y: set()\n",
      "T,R: {'S'}\n",
      "U,R: set()\n",
      "V,R: set()\n",
      "Y,R: set()\n",
      "S,U: set()\n",
      "S,V: set()\n",
      "S,Y: set()\n",
      "V,T: {'U'}\n",
      "Y,T: {'V'}\n",
      "U,Y: {'V'}\n"
     ]
    }
   ],
   "source": [
    "for a,b in oy.NA_pairs(fig2_5):\n",
    "    separators = oy.d_separator_search(fig2_5, a, b)[0] # just one set.\n",
    "    print(f'{a},{b}: {separators}')"
   ]
  },
  {
   "cell_type": "markdown",
   "metadata": {},
   "source": [
    "`set()` means that no variables need be conditioned on to render the pair independent.  In other words, they are *marginally independent*."
   ]
  },
  {
   "cell_type": "markdown",
   "metadata": {},
   "source": [
    "\n",
    "See further discussion of this concept of `implied independencies` and a better, dedicated Oyster tool for finding them in study question 2.4.1 below."
   ]
  },
  {
   "cell_type": "markdown",
   "metadata": {},
   "source": [
    "#### c) List all pairs of variables in the graph of Figure 2.6 that are independent conditional on the set Z={R,P}."
   ]
  },
  {
   "cell_type": "markdown",
   "metadata": {},
   "source": [
    "Pulling the graph from `oyster.examples`..."
   ]
  },
  {
   "cell_type": "code",
   "execution_count": 17,
   "metadata": {},
   "outputs": [
    {
     "data": {
      "image/png": "[encoded data removed]",
      "text/plain": [
       "<Figure size 432x288 with 1 Axes>"
      ]
     },
     "metadata": {},
     "output_type": "display_data"
    }
   ],
   "source": [
    "fig2_6 = oy.ex.primer['fig2_6']\n",
    "oy.draw(fig2_6, title='Figure 2.6')"
   ]
  },
  {
   "cell_type": "markdown",
   "metadata": {},
   "source": [
    "as in part a)..."
   ]
  },
  {
   "cell_type": "code",
   "execution_count": 18,
   "metadata": {},
   "outputs": [
    {
     "name": "stdout",
     "output_type": "stream",
     "text": [
      "Given {R,P}...\n",
      "X and S are independent.\n",
      "X and Y are independent.\n",
      "X and V are independent.\n",
      "X and U are independent.\n",
      "X and T are independent.\n"
     ]
    }
   ],
   "source": [
    "Z = {'R', 'P'}\n",
    "print('Given {R,P}...')\n",
    "for a,b in oy.combinations(fig2_6.nodes - Z, 2): # for all pairs of nodes not in Z...\n",
    "    ind = oy.d_separated(fig2_6, a, b, Z)\n",
    "    if ind: print(f'{a} and {b} are independent.')"
   ]
  },
  {
   "cell_type": "markdown",
   "metadata": {},
   "source": [
    "#### d) For each pair of non-adjacent variables in Figure 2.6, give a set of variables that, when conditioned on, renders that pair independent."
   ]
  },
  {
   "cell_type": "markdown",
   "metadata": {},
   "source": [
    "as in part b) (and recalling that I show a better way below using `implied_indepenencies`)."
   ]
  },
  {
   "cell_type": "code",
   "execution_count": 19,
   "metadata": {},
   "outputs": [
    {
     "name": "stdout",
     "output_type": "stream",
     "text": [
      "S,X: {'R'}\n",
      "X,T: {'S'}\n",
      "X,P: {'S'}\n",
      "X,U: set()\n",
      "V,X: set()\n",
      "X,Y: set()\n",
      "T,R: {'S'}\n",
      "R,P: {'S'}\n",
      "U,R: set()\n",
      "V,R: set()\n",
      "Y,R: set()\n",
      "S,P: {'T'}\n",
      "S,U: set()\n",
      "S,V: set()\n",
      "S,Y: set()\n",
      "V,T: {'U'}\n",
      "Y,T: {'V'}\n",
      "U,P: {'T'}\n",
      "V,P: {'U'}\n",
      "Y,P: {'V'}\n",
      "U,Y: {'V'}\n"
     ]
    }
   ],
   "source": [
    "for a,b in oy.NA_pairs(fig2_6):\n",
    "    separators = oy.d_separator_search(fig2_6, a, b)[0] # just one set.\n",
    "    print(f'{a},{b}: {separators}')"
   ]
  },
  {
   "cell_type": "markdown",
   "metadata": {},
   "source": [
    "#### e) Suppose we generate data by the model described in Figure 2.5, and we fit them with the linear equation Y = a + bX + cZ. Which of the variables in the model may be chosen for Z so as to guarantee that the slope b would be equal to zero?"
   ]
  },
  {
   "cell_type": "markdown",
   "metadata": {},
   "source": [
    "b = 0 iff X and Y are independant.  So in other words, which (single) variables Z d-separate X and Y?"
   ]
  },
  {
   "cell_type": "code",
   "execution_count": 20,
   "metadata": {},
   "outputs": [
    {
     "data": {
      "text/plain": [
       "[{'S'}, {'R'}, {'V'}, {'U'}]"
      ]
     },
     "execution_count": 20,
     "metadata": {},
     "output_type": "execute_result"
    }
   ],
   "source": [
    "[z for z in oy.d_separator_search(fig2_5, 'X', 'Y') if len(z) == 1]"
   ]
  },
  {
   "cell_type": "markdown",
   "metadata": {},
   "source": [
    "#### f) Continuing question (e), suppose we fit the data with the equation: \n",
    "\n",
    "\\begin{equation*}\n",
    "Y = a + bX + cR + dS + eT + fP\n",
    "\\end{equation*}\n",
    "\n",
    "#### which of the coefficients would be zero?"
   ]
  },
  {
   "cell_type": "markdown",
   "metadata": {},
   "source": [
    "Here, the question can be reworded as \"which of {X, R, S, T, P} is independent of Y, given the rest of the variables?\""
   ]
  },
  {
   "cell_type": "code",
   "execution_count": 21,
   "metadata": {},
   "outputs": [
    {
     "data": {
      "text/plain": [
       "['X', 'R', 'P']"
      ]
     },
     "execution_count": 21,
     "metadata": {},
     "output_type": "execute_result"
    }
   ],
   "source": [
    "variables = {'X', 'R', 'S', 'T', 'P'}\n",
    "\n",
    "[v for v in variables if oy.d_separated(fig2_6, v, 'Y', variables - {v})]"
   ]
  },
  {
   "cell_type": "markdown",
   "metadata": {},
   "source": [
    "### Study Question 2.4.1\n",
    "Considering Figure 2.9..."
   ]
  },
  {
   "cell_type": "code",
   "execution_count": 22,
   "metadata": {},
   "outputs": [
    {
     "data": {
      "image/png": "[encoded data removed]",
      "text/plain": [
       "<Figure size 432x288 with 1 Axes>"
      ]
     },
     "metadata": {},
     "output_type": "display_data"
    }
   ],
   "source": [
    "fig2_9 = oy.ex.primer['fig2_9']\n",
    "oy.draw(fig2_9, title='Figure 2.9')"
   ]
  },
  {
   "cell_type": "markdown",
   "metadata": {},
   "source": [
    "#### a) For each pair of non-adjacent nodes in this graph, find a set of variables that d-separates that pair. What does this list tell us about independencies in the data?"
   ]
  },
  {
   "cell_type": "markdown",
   "metadata": {},
   "source": [
    "If a pair of variables are d-separated, they are independant of one another, conditional on the variables that d-separate them.\n",
    "\n",
    "This concept is important because these independancies represent ***testable implications*** of a model. Given a dataset and a causal diagram proporting to explain it, one can examine the if two varaibles remain correlated after controlling for factors that d-separate the variables in the causal diagram. If so, then the model is flawed.\n",
    "\n",
    "Oyster provides a top-level function for finding displaying the independencies implied by a model."
   ]
  },
  {
   "cell_type": "code",
   "execution_count": 23,
   "metadata": {},
   "outputs": [
    {
     "name": "stdout",
     "output_type": "stream",
     "text": [
      "Implied independencies:\n",
      "X ⫫ Y | [{'W', 'Z1', 'Z3'}, {'W', 'Z3', 'Z2'}]\n",
      "X ⫫ Z2 | [{'Z1', 'Z3'}]\n",
      "W ⫫ Z1 | [{'X'}]\n",
      "W ⫫ Z3 | [{'X'}]\n",
      "W ⫫ Z2 | [{'X'}, {'Z1', 'Z3'}]\n",
      "Z1 ⫫ Y | [{'W', 'Z3', 'Z2'}, {'X', 'Z3', 'Z2'}]\n",
      "Z1 ⫫ Z2 | [set()]\n"
     ]
    }
   ],
   "source": [
    "oy.implied_independencies(fig2_9)"
   ]
  },
  {
   "cell_type": "markdown",
   "metadata": {},
   "source": [
    "Note that each set in the above lists represents a minimal separating set.  So, X and Y are independent given Z1, W, and Z3.  X and Y are also independent given Z2, W, and Z3.  Z1 and Z2 are independant without controlling for any variables.  There are more seperating sets for Figure 2.9 than the minimal sets listed above, but every other set is a superset of the minimal sets, (i.e. they include at least one extraneous variable).  ***Minimal separating sets*** are an important concept because they allow independencies to be analyzed with as few covariate adjustments as possible, which among other good things means the sample sizes for each matching covariate category are larger.  Oyster provides a utility function `minimal_sets` that determines the minimal sets from a provided list of sets.\n",
    "\n",
    "Another way to examine d-separating sets would be to run a `d_separator_search` for each nonadjacent pair. This is what `implied_independancies` does behind the scenes, returning only the `minimal_sets`."
   ]
  },
  {
   "cell_type": "code",
   "execution_count": 54,
   "metadata": {},
   "outputs": [
    {
     "name": "stdout",
     "output_type": "stream",
     "text": [
      "d-separating sets for X ⫫ Y in Figure 2.9:\n",
      "All: [{'W', 'Z1', 'Z3'}, {'W', 'Z3', 'Z2'}, {'W', 'Z1', 'Z3', 'Z2'}]\n",
      "Minimal: [{'W', 'Z1', 'Z3'}, {'W', 'Z3', 'Z2'}]\n"
     ]
    }
   ],
   "source": [
    "all_X_Y_d_separators = oy.d_separator_search(fig2_9, 'X', 'Y')\n",
    "print('d-separating sets for X ⫫ Y in Figure 2.9:')\n",
    "print(f'All: {all_X_Y_d_separators}')\n",
    "print(f'Minimal: {oy.minimal_sets(all_X_Y_d_separators)}')"
   ]
  },
  {
   "cell_type": "markdown",
   "metadata": {},
   "source": [
    "#### b) Repeat question (a) assuming that only variables in the set {Z3,W,X,Z1} can be measured."
   ]
  },
  {
   "cell_type": "markdown",
   "metadata": {},
   "source": [
    "Now, instead of taking the minimal sets as is done with `implied_independencies`, we will run an exhaustive `d_separator_search` against nonadjacent pairs, and filter the results such that the seperating sets include only measurable variables, and only for measurable pairs."
   ]
  },
  {
   "cell_type": "code",
   "execution_count": 25,
   "metadata": {},
   "outputs": [
    {
     "name": "stdout",
     "output_type": "stream",
     "text": [
      "W ⫫ Z1 | [{'X'}, {'X', 'Z3'}]\n",
      "W ⫫ Z3 | [{'X'}, {'Z1', 'X'}]\n"
     ]
    }
   ],
   "source": [
    "measurable = {'Z3','W','X','Z1'}\n",
    "\n",
    "all_d_seps_for_measurable_pairs = [(a,b, oy.d_separator_search(fig2_9, a, b))\n",
    "                                   for a,b in oy.NA_pairs(fig2_9) \n",
    "                                   if a in measurable and b in measurable]\n",
    "\n",
    "for (a,b,sep) in all_d_seps_for_measurable_pairs:\n",
    "    print(f'{a} ⫫ {b} | {list(filter(lambda s: s < measurable, sep))}')"
   ]
  },
  {
   "cell_type": "markdown",
   "metadata": {},
   "source": [
    "#### c) For each pair of non-adjacent nodes in the graph, determine whether they are independent conditional on all other variables."
   ]
  },
  {
   "cell_type": "code",
   "execution_count": 31,
   "metadata": {},
   "outputs": [
    {
     "name": "stdout",
     "output_type": "stream",
     "text": [
      "X ⫫ Y | {'W', 'Z3', 'Z1', 'Z2'}\n",
      "X ⫫ Z2 | {'W', 'Y', 'Z3', 'Z1'}\n",
      "W ⫫ Z1 | {'X', 'Z3', 'Y', 'Z2'}\n",
      "Z1 ⫫ Y | {'W', 'X', 'Z3', 'Z2'}\n"
     ]
    }
   ],
   "source": [
    "for (a,b) in oy.NA_pairs(fig2_9):\n",
    "    all_other_variables = fig2_9.nodes - {a} - {b}\n",
    "    ind = oy.d_separated(fig2_9, a, b, all_other_variables)\n",
    "    if ind: print(f'{a} ⫫ {b} | {all_other_variables}')"
   ]
  },
  {
   "cell_type": "markdown",
   "metadata": {},
   "source": [
    "#### d) For every variable V in the graph, find a minimal set of nodes that renders V independent of all other variables in the graph."
   ]
  },
  {
   "cell_type": "markdown",
   "metadata": {},
   "source": [
    "An important result from Bayesian Network theory is that V is independant of all other variables in the graph given the set of V's parents, V's children, and all the other parents of V's children.  This set is also guaranteed to be minimal.  This set is known as a variable's ***Markov Blanket***, and is accessed by the `MB` utility function."
   ]
  },
  {
   "cell_type": "code",
   "execution_count": 45,
   "metadata": {},
   "outputs": [
    {
     "name": "stdout",
     "output_type": "stream",
     "text": [
      "X ⫫ {'X', 'Y', 'Z2'} | {'Z1', 'Z3', 'W'}\n",
      "W ⫫ {'W', 'Z1'} | {'X', 'Z3', 'Y', 'Z2'}\n",
      "Y ⫫ {'Z1', 'X', 'Y'} | {'W', 'Z3', 'Z2'}\n",
      "Z1 ⫫ {'W', 'Y', 'Z1'} | {'X', 'Z3', 'Z2'}\n",
      "Z3 ⫫ {'Z3'} | {'W', 'Z1', 'X', 'Y', 'Z2'}\n",
      "Z2 ⫫ {'X', 'Z2'} | {'W', 'Y', 'Z3', 'Z1'}\n"
     ]
    }
   ],
   "source": [
    "for node in fig2_9.nodes:\n",
    "    mb = oy.MB(fig2_9, node)\n",
    "    print(f'{node} ⫫ {fig2_9.nodes - mb} | {mb}')"
   ]
  },
  {
   "cell_type": "markdown",
   "metadata": {},
   "source": [
    "#### e) Suppose we wish to estimate the value of Y from measurements taken on all other variables in the model. Find the smallest set of variables that would yield as good an estimate as before."
   ]
  },
  {
   "cell_type": "markdown",
   "metadata": {},
   "source": [
    "This is an important application of the [Markov Blanket](https://en.wikipedia.org/wiki/Markov_blanket). As a corollary from the above discussion, a variable V's Markov Blanket is the minimal set of variables that contain the knowledge needed to predict V."
   ]
  },
  {
   "cell_type": "code",
   "execution_count": 55,
   "metadata": {},
   "outputs": [
    {
     "data": {
      "text/plain": [
       "{'W', 'Z2', 'Z3'}"
      ]
     },
     "execution_count": 55,
     "metadata": {},
     "output_type": "execute_result"
    }
   ],
   "source": [
    "oy.MB(fig2_9, 'Y')"
   ]
  },
  {
   "cell_type": "markdown",
   "metadata": {},
   "source": [
    "Alternatively, if you were a glutton for punishment you could take the minimal set of the intersection of the sets of sets that d-separate Y from every nonadjacent node:"
   ]
  },
  {
   "cell_type": "code",
   "execution_count": 90,
   "metadata": {},
   "outputs": [
    {
     "data": {
      "text/plain": [
       "[{'W', 'Z2', 'Z3'}]"
      ]
     },
     "execution_count": 90,
     "metadata": {},
     "output_type": "execute_result"
    }
   ],
   "source": [
    "separating_sets_for_NA_nodes = [oy.d_separator_search(fig2_9, 'Y', node)\n",
    "                                for node in oy.NA(fig2_9, 'Y')]\n",
    "\n",
    "intersection = {frozenset(s) for s in separating_sets_for_NA_nodes[0]}\n",
    "for node in separating_sets_for_NA_nodes[1:]:\n",
    "    intersection.intersection_update({frozenset(s) for s in node})\n",
    "\n",
    "[set(s) for s in intersection]"
   ]
  },
  {
   "cell_type": "markdown",
   "metadata": {},
   "source": [
    "#### f) Repeat Question (e) assuming that we wish to estimate the value of Z2"
   ]
  },
  {
   "cell_type": "code",
   "execution_count": 56,
   "metadata": {},
   "outputs": [
    {
     "data": {
      "text/plain": [
       "{'W', 'Y', 'Z1', 'Z3'}"
      ]
     },
     "execution_count": 56,
     "metadata": {},
     "output_type": "execute_result"
    }
   ],
   "source": [
    "oy.MB(fig2_9, 'Z2')"
   ]
  },
  {
   "cell_type": "markdown",
   "metadata": {},
   "source": [
    "#### g) Suppose we wish to predict the value of Z2 from measurements of Z3. Would the quality of our prediction improve if we add measurement of W? Explain."
   ]
  },
  {
   "cell_type": "markdown",
   "metadata": {},
   "source": [
    "In other words...is W d-separated from Z2, given Z3?"
   ]
  },
  {
   "cell_type": "code",
   "execution_count": 91,
   "metadata": {},
   "outputs": [
    {
     "data": {
      "text/plain": [
       "False"
      ]
     },
     "execution_count": 91,
     "metadata": {},
     "output_type": "execute_result"
    }
   ],
   "source": [
    "oy.d_separated(fig2_9, 'Z2', 'W', 'Z3')"
   ]
  },
  {
   "cell_type": "markdown",
   "metadata": {},
   "source": [
    "Answer: \"Probably, but...\".  W is not d-separated from Z2 given Z3.  If it *were* d-separated (i.e. conditionally independant, given Z3), then adding it to the model would not add additional information and the answer would be a definite \"No.\"  Since in fact W is not d-separated from Z2 given Z3 (i.e. it remains correlated), including it will improve (in-sample) prediction, at least as measured by $R^{2}$ ... but the improvement will not necessarily be worth the cost of making the model less parsimonious.\n",
    "\n",
    "To summarize the value of graphical analysis for ***variable selection***: a model implies that some variables (those that are d-separated, a.k.a independant of the variable to be predicted, conditional on the other variables being measured), are certainly not worth including when making predictions.  Variables that grahical analysis shows are d-connected may or may not have value."
   ]
  },
  {
   "cell_type": "code",
   "execution_count": null,
   "metadata": {},
   "outputs": [],
   "source": []
  },
  {
   "cell_type": "code",
   "execution_count": null,
   "metadata": {},
   "outputs": [],
   "source": []
  }
 ],
 "metadata": {
  "kernelspec": {
   "display_name": "Python 3",
   "language": "python",
   "name": "python3"
  },
  "language_info": {
   "codemirror_mode": {
    "name": "ipython",
    "version": 3
   },
   "file_extension": ".py",
   "mimetype": "text/x-python",
   "name": "python",
   "nbconvert_exporter": "python",
   "pygments_lexer": "ipython3",
   "version": "3.8.2"
  }
 },
 "nbformat": 4,
 "nbformat_minor": 4
}
